{
  "metadata": {
    "kernelspec": {
      "display_name": "Python 3",
      "name": "python3"
    },
    "language_info": {
      "name": "python",
      "version": "3.10.12",
      "mimetype": "text/x-python",
      "codemirror_mode": {
        "name": "ipython",
        "version": 3
      },
      "pygments_lexer": "ipython3",
      "nbconvert_exporter": "python",
      "file_extension": ".py"
    },
    "kaggle": {
      "accelerator": "none",
      "dataSources": [
        {
          "sourceId": 7027714,
          "sourceType": "datasetVersion",
          "datasetId": 4041945
        },
        {
          "sourceId": 7125057,
          "sourceType": "datasetVersion",
          "datasetId": 4110110
        },
        {
          "sourceId": 7147554,
          "sourceType": "datasetVersion",
          "datasetId": 4126315
        }
      ],
      "dockerImageVersionId": 30587,
      "isInternetEnabled": false,
      "language": "python",
      "sourceType": "notebook",
      "isGpuEnabled": false
    },
    "colab": {
      "provenance": [],
      "gpuType": "V28"
    },
    "accelerator": "TPU"
  },
  "nbformat_minor": 0,
  "nbformat": 4,
  "cells": [
    {
      "cell_type": "code",
      "source": [
        "!pip install rouge-score"
      ],
      "metadata": {
        "colab": {
          "base_uri": "https://localhost:8080/"
        },
        "id": "gsBAh6L-DupQ",
        "outputId": "c4766802-b535-4e55-d4d1-73eb83758fc2"
      },
      "execution_count": null,
      "outputs": [
        {
          "output_type": "stream",
          "name": "stdout",
          "text": [
            "Requirement already satisfied: rouge-score in /usr/local/lib/python3.10/dist-packages (0.1.2)\n",
            "Requirement already satisfied: absl-py in /usr/local/lib/python3.10/dist-packages (from rouge-score) (1.4.0)\n",
            "Requirement already satisfied: nltk in /usr/local/lib/python3.10/dist-packages (from rouge-score) (3.8.1)\n",
            "Requirement already satisfied: numpy in /usr/local/lib/python3.10/dist-packages (from rouge-score) (1.25.2)\n",
            "Requirement already satisfied: six>=1.14.0 in /usr/local/lib/python3.10/dist-packages (from rouge-score) (1.16.0)\n",
            "Requirement already satisfied: click in /usr/local/lib/python3.10/dist-packages (from nltk->rouge-score) (8.1.7)\n",
            "Requirement already satisfied: joblib in /usr/local/lib/python3.10/dist-packages (from nltk->rouge-score) (1.4.0)\n",
            "Requirement already satisfied: regex>=2021.8.3 in /usr/local/lib/python3.10/dist-packages (from nltk->rouge-score) (2024.4.28)\n",
            "Requirement already satisfied: tqdm in /usr/local/lib/python3.10/dist-packages (from nltk->rouge-score) (4.66.2)\n"
          ]
        }
      ]
    },
    {
      "cell_type": "code",
      "source": [
        "import numpy as np\n",
        "import pandas as pd\n",
        "import json\n",
        "import os\n",
        "import re\n",
        "import gensim\n",
        "import tensorflow as tf\n",
        "import matplotlib.pyplot as plt\n",
        "import nltk\n",
        "from nltk.corpus import stopwords\n",
        "\n",
        "from tqdm import tqdm\n",
        "from google.colab import drive\n",
        "from tensorflow.keras.layers import Concatenate\n",
        "from tensorflow.keras import backend as K\n",
        "from tensorflow.keras import Input, Model\n",
        "from tensorflow.keras.preprocessing.text import Tokenizer\n",
        "from tensorflow.keras.preprocessing.sequence import pad_sequences\n",
        "from tensorflow.keras.callbacks import EarlyStopping, ReduceLROnPlateau\n",
        "from tensorflow.keras.layers import Layer, TimeDistributed, LSTM, Bidirectional, Dense, Embedding\n",
        "\n",
        "# from rouge_score import rouge_scorer\n",
        "\n",
        "from tensorflow.keras.models import model_from_json"
      ],
      "metadata": {
        "_uuid": "615d6278-0f17-4236-911d-49f6ffa93c5b",
        "_cell_guid": "ab8e8e1a-1a86-46b7-8c4f-00de14da6794",
        "jupyter": {
          "outputs_hidden": false
        },
        "execution": {
          "iopub.status.busy": "2024-02-13T02:38:20.678608Z",
          "iopub.execute_input": "2024-02-13T02:38:20.678844Z",
          "iopub.status.idle": "2024-02-13T02:38:39.355056Z",
          "shell.execute_reply.started": "2024-02-13T02:38:20.678818Z",
          "shell.execute_reply": "2024-02-13T02:38:39.353765Z"
        },
        "trusted": true,
        "id": "0vKas2BaKP53"
      },
      "execution_count": null,
      "outputs": []
    },
    {
      "cell_type": "markdown",
      "source": [],
      "metadata": {
        "id": "uC_NyPK2b1H8"
      }
    },
    {
      "cell_type": "code",
      "source": [
        "nltk.download('stopwords')"
      ],
      "metadata": {
        "id": "rxOUwtTShaZ_",
        "colab": {
          "base_uri": "https://localhost:8080/"
        },
        "outputId": "ac1b3d0a-6760-4137-f91e-ccc778e27730"
      },
      "execution_count": null,
      "outputs": [
        {
          "output_type": "stream",
          "name": "stderr",
          "text": [
            "[nltk_data] Downloading package stopwords to /root/nltk_data...\n",
            "[nltk_data]   Package stopwords is already up-to-date!\n"
          ]
        },
        {
          "output_type": "execute_result",
          "data": {
            "text/plain": [
              "True"
            ]
          },
          "metadata": {},
          "execution_count": 5
        }
      ]
    },
    {
      "cell_type": "code",
      "source": [
        "# Using TPU\n",
        "\n",
        "# detect and init the TPU\n",
        "tpu = tf.distribute.cluster_resolver.TPUClusterResolver()\n",
        "tf.config.experimental_connect_to_cluster(tpu)\n",
        "tf.tpu.experimental.initialize_tpu_system(tpu)\n",
        "\n",
        "# instantiate a distribution strategy\n",
        "tpu_strategy = tf.distribute.TPUStrategy(tpu)"
      ],
      "metadata": {
        "id": "POcwcIF-czrG"
      },
      "execution_count": null,
      "outputs": []
    },
    {
      "cell_type": "code",
      "source": [
        "# Detect train, dev, and test files\n",
        "drive.mount('/content/drive')\n",
        "\n",
        "DATASET_ROOT = '/content/drive/My Drive/indosum'\n",
        "\n",
        "files_id_dir = os.listdir(DATASET_ROOT)\n",
        "train_files = []\n",
        "dev_files = []\n",
        "test_files = []\n",
        "\n",
        "for filename in files_id_dir:\n",
        "    if 'train' in filename:\n",
        "        train_files.append(filename)\n",
        "    elif 'dev' in filename:\n",
        "        dev_files.append(filename)\n",
        "    elif 'test' in filename:\n",
        "        test_files.append(filename)\n",
        "\n",
        "train_files, dev_files, test_files"
      ],
      "metadata": {
        "id": "DmBYBQteKUR8",
        "colab": {
          "base_uri": "https://localhost:8080/"
        },
        "outputId": "33d3616a-a31a-4483-8040-8e0d61e95f43"
      },
      "execution_count": null,
      "outputs": [
        {
          "output_type": "stream",
          "name": "stdout",
          "text": [
            "Mounted at /content/drive\n"
          ]
        },
        {
          "output_type": "execute_result",
          "data": {
            "text/plain": [
              "(['train.01.jsonl',\n",
              "  'train.02.jsonl',\n",
              "  'train.03.jsonl',\n",
              "  'train.04.jsonl',\n",
              "  'train.05.jsonl'],\n",
              " ['dev.03.jsonl',\n",
              "  'dev.02.jsonl',\n",
              "  'dev.01.jsonl',\n",
              "  'dev.05.jsonl',\n",
              "  'dev.04.jsonl'],\n",
              " ['test.01.jsonl',\n",
              "  'test.03.jsonl',\n",
              "  'test.02.jsonl',\n",
              "  'test.04.jsonl',\n",
              "  'test.05.jsonl'])"
            ]
          },
          "metadata": {},
          "execution_count": 7
        }
      ]
    },
    {
      "cell_type": "markdown",
      "source": [
        "**<h4>OPENING dan Hanya TESTING/CEK DATA DIAWAL</h4>**"
      ],
      "metadata": {
        "_uuid": "9234321d-459b-4b4a-99a3-5ccf09f1714e",
        "_cell_guid": "b4092b85-9cf5-42c5-ae74-9032c52dedcc",
        "trusted": true,
        "id": "_qZEpCLaKP57"
      }
    },
    {
      "cell_type": "code",
      "source": [
        "def load_file_to_json_list(filename):\n",
        "    file = os.path.join(DATASET_ROOT, filename)\n",
        "    data = []\n",
        "    with open(file, 'r') as f:\n",
        "        json_list = list(f)\n",
        "        for json_str in tqdm(json_list, desc=f'Loading data {filename}'):\n",
        "            d = json.loads(json_str)\n",
        "            data.append(d)\n",
        "    return data"
      ],
      "metadata": {
        "_uuid": "5755c45b-f9c7-433b-bdb2-e69a29dd6baa",
        "_cell_guid": "dbf38bb8-863d-48b6-a03b-e7894755d170",
        "jupyter": {
          "outputs_hidden": false
        },
        "execution": {
          "iopub.status.busy": "2024-02-13T02:39:21.303615Z",
          "iopub.execute_input": "2024-02-13T02:39:21.304727Z",
          "iopub.status.idle": "2024-02-13T02:39:21.309755Z",
          "shell.execute_reply.started": "2024-02-13T02:39:21.304690Z",
          "shell.execute_reply": "2024-02-13T02:39:21.309015Z"
        },
        "trusted": true,
        "id": "1SMPklZRKP58"
      },
      "execution_count": null,
      "outputs": []
    },
    {
      "cell_type": "code",
      "source": [
        "jsonl_data = load_file_to_json_list(train_files[0])\n",
        "len(jsonl_data), jsonl_data[0].keys()"
      ],
      "metadata": {
        "_uuid": "f3fb2f40-e66c-4073-bad2-31da94095c08",
        "_cell_guid": "7f288e44-4501-476d-add1-8c16b2dd2fcd",
        "jupyter": {
          "outputs_hidden": false
        },
        "execution": {
          "iopub.status.busy": "2024-02-13T02:39:22.142436Z",
          "iopub.execute_input": "2024-02-13T02:39:22.143750Z",
          "iopub.status.idle": "2024-02-13T02:39:26.931988Z",
          "shell.execute_reply.started": "2024-02-13T02:39:22.143689Z",
          "shell.execute_reply": "2024-02-13T02:39:26.931218Z"
        },
        "trusted": true,
        "id": "icd8G5V7KP59",
        "colab": {
          "base_uri": "https://localhost:8080/"
        },
        "outputId": "0f6a9943-0897-467b-a42b-38ded9646ed3"
      },
      "execution_count": null,
      "outputs": [
        {
          "output_type": "stream",
          "name": "stderr",
          "text": [
            "Loading data train.01.jsonl: 100%|██████████| 14262/14262 [00:01<00:00, 7344.36it/s]\n"
          ]
        },
        {
          "output_type": "execute_result",
          "data": {
            "text/plain": [
              "(14262,\n",
              " dict_keys(['category', 'gold_labels', 'id', 'paragraphs', 'source', 'source_url', 'summary']))"
            ]
          },
          "metadata": {},
          "execution_count": 9
        }
      ]
    },
    {
      "cell_type": "code",
      "source": [
        "jsonl_data = load_file_to_json_list(dev_files[0])\n",
        "len(jsonl_data), jsonl_data[0].keys()"
      ],
      "metadata": {
        "_uuid": "a1c4dcee-4713-4e80-b7ef-ce9116f1e744",
        "_cell_guid": "d7ddd4e8-f63e-4d8e-ac5d-add65f51f2e1",
        "jupyter": {
          "outputs_hidden": false
        },
        "execution": {
          "iopub.status.busy": "2024-02-13T02:39:26.933695Z",
          "iopub.execute_input": "2024-02-13T02:39:26.934027Z",
          "iopub.status.idle": "2024-02-13T02:39:27.294466Z",
          "shell.execute_reply.started": "2024-02-13T02:39:26.933999Z",
          "shell.execute_reply": "2024-02-13T02:39:27.293461Z"
        },
        "trusted": true,
        "id": "xfxlEbY4KP59",
        "colab": {
          "base_uri": "https://localhost:8080/"
        },
        "outputId": "b1535393-d5f4-41f2-a028-260b6c7c88f7"
      },
      "execution_count": null,
      "outputs": [
        {
          "output_type": "stream",
          "name": "stderr",
          "text": [
            "Loading data dev.03.jsonl: 100%|██████████| 747/747 [00:00<00:00, 15376.49it/s]\n"
          ]
        },
        {
          "output_type": "execute_result",
          "data": {
            "text/plain": [
              "(747,\n",
              " dict_keys(['category', 'gold_labels', 'id', 'paragraphs', 'source', 'source_url', 'summary']))"
            ]
          },
          "metadata": {},
          "execution_count": 10
        }
      ]
    },
    {
      "cell_type": "code",
      "source": [
        "jsonl_data = load_file_to_json_list(test_files[0])\n",
        "len(jsonl_data), jsonl_data[0].keys()"
      ],
      "metadata": {
        "_uuid": "8174f3dc-e392-468a-b823-2090cad73593",
        "_cell_guid": "a2d5e359-71ba-4aaa-9c1f-30845e75fcb5",
        "jupyter": {
          "outputs_hidden": false
        },
        "execution": {
          "iopub.status.busy": "2024-02-13T02:39:27.297255Z",
          "iopub.execute_input": "2024-02-13T02:39:27.297680Z",
          "iopub.status.idle": "2024-02-13T02:39:27.814784Z",
          "shell.execute_reply.started": "2024-02-13T02:39:27.297639Z",
          "shell.execute_reply": "2024-02-13T02:39:27.813907Z"
        },
        "trusted": true,
        "id": "aeqwX47BKP59",
        "colab": {
          "base_uri": "https://localhost:8080/"
        },
        "outputId": "2b454b17-64e3-4903-9f89-f2745df45c2c"
      },
      "execution_count": null,
      "outputs": [
        {
          "output_type": "stream",
          "name": "stderr",
          "text": [
            "Loading data test.01.jsonl: 100%|██████████| 3762/3762 [00:00<00:00, 8566.18it/s]\n"
          ]
        },
        {
          "output_type": "execute_result",
          "data": {
            "text/plain": [
              "(3762,\n",
              " dict_keys(['category', 'gold_labels', 'id', 'paragraphs', 'source', 'source_url', 'summary']))"
            ]
          },
          "metadata": {},
          "execution_count": 11
        }
      ]
    },
    {
      "cell_type": "code",
      "source": [
        "columns_to_check = ['paragraphs', 'id', 'summary']\n",
        "for column in columns_to_check:\n",
        "    column_data = jsonl_data[0][column]\n",
        "    print(f\"{column}: {type(column_data)}\")"
      ],
      "metadata": {
        "_uuid": "c33b02f6-1847-4f27-b720-3476cba10b83",
        "_cell_guid": "a46c08f6-7b03-4e97-95f0-cfac63dddb06",
        "scrolled": true,
        "jupyter": {
          "outputs_hidden": false
        },
        "execution": {
          "iopub.status.busy": "2024-02-13T02:39:27.817280Z",
          "iopub.execute_input": "2024-02-13T02:39:27.817852Z",
          "iopub.status.idle": "2024-02-13T02:39:27.823982Z",
          "shell.execute_reply.started": "2024-02-13T02:39:27.817819Z",
          "shell.execute_reply": "2024-02-13T02:39:27.823027Z"
        },
        "trusted": true,
        "id": "atRjiysHKP5-",
        "colab": {
          "base_uri": "https://localhost:8080/"
        },
        "outputId": "3bf122db-00a2-4d0d-a134-919dcdbb7783"
      },
      "execution_count": null,
      "outputs": [
        {
          "output_type": "stream",
          "name": "stdout",
          "text": [
            "paragraphs: <class 'list'>\n",
            "id: <class 'str'>\n",
            "summary: <class 'list'>\n"
          ]
        }
      ]
    },
    {
      "cell_type": "code",
      "source": [
        "def paragraph_to_dict_str(paragraph_list):\n",
        "    paragraph_dict = {} # key = paragraph_id : value = paragraph list\n",
        "    for i, paragraph in enumerate(paragraph_list):\n",
        "        new_paragraph = []\n",
        "        for sentence in paragraph:\n",
        "            sentence = ' '.join(sentence)\n",
        "            new_paragraph.append(sentence)\n",
        "        paragraph_dict[i] = new_paragraph\n",
        "\n",
        "    json_str = json.dumps(paragraph_dict)\n",
        "    num = len(paragraph_dict)\n",
        "    return json_str, num"
      ],
      "metadata": {
        "_uuid": "23cad53a-d119-42a1-9535-6666952df57a",
        "_cell_guid": "0375d1bb-03ec-43ce-96de-be297d874c84",
        "_kg_hide-input": false,
        "jupyter": {
          "outputs_hidden": false
        },
        "execution": {
          "iopub.status.busy": "2024-02-13T02:39:27.825078Z",
          "iopub.execute_input": "2024-02-13T02:39:27.825314Z",
          "iopub.status.idle": "2024-02-13T02:39:27.837083Z",
          "shell.execute_reply.started": "2024-02-13T02:39:27.825292Z",
          "shell.execute_reply": "2024-02-13T02:39:27.835817Z"
        },
        "trusted": true,
        "id": "FX2FHgo3KP5-"
      },
      "execution_count": null,
      "outputs": []
    },
    {
      "cell_type": "code",
      "source": [
        "# only for testing purpose\n",
        "paragraph_list = jsonl_data[0]['paragraphs']\n",
        "paragraph_to_dict_str(paragraph_list)"
      ],
      "metadata": {
        "_uuid": "8125c450-7797-4fe9-8009-ecd29e7f0cd3",
        "_cell_guid": "af019ea9-e2fe-4faf-ac5a-c0ef8741a2bb",
        "jupyter": {
          "outputs_hidden": false
        },
        "execution": {
          "iopub.status.busy": "2024-02-13T02:39:27.838887Z",
          "iopub.execute_input": "2024-02-13T02:39:27.839414Z",
          "iopub.status.idle": "2024-02-13T02:39:27.855484Z",
          "shell.execute_reply.started": "2024-02-13T02:39:27.839386Z",
          "shell.execute_reply": "2024-02-13T02:39:27.853940Z"
        },
        "trusted": true,
        "id": "PepLaygSKP5-",
        "colab": {
          "base_uri": "https://localhost:8080/"
        },
        "outputId": "33ba0b7f-4104-45c3-ffc5-c97d5c580ca2"
      },
      "execution_count": null,
      "outputs": [
        {
          "output_type": "execute_result",
          "data": {
            "text/plain": [
              "('{\"0\": [\"Jakarta , CNN Indonesia - - Dilansir AFP , seorang warga Mesir yang dipercaya sebagai wanita terberat di dunia masuk sebuah rumah sakit di Abu Dhabi Kamis ( 5 / 5 ) , dimana ia akan melanjutkan perawatan setelah menjalankan operasi menurunkan badan di India .\"], \"1\": [\"Eman Ahmed Abd El Aty memiliki berat badan mencapai 500 kilogram sebelum menjalankan operasi di Mumbai Maret lalu dimana ia mengurangi seperlima dari berat badannya .\"], \"2\": [\"Ia menderita berbagai macam masalah kesehatan termasuk penyakit gajah , kondisi yang menyebabkan anggota badan membengkak .\"], \"3\": [\"Abd El Aty diberi diet cairan khusus selama berada di India yang bertujuan menurunkan berat badan .\", \"Diet ini memungkinkan dokter melakukan operasi bariatrik , prosedur bypass yang kini sering dilakukan di India dalam menghadapi masalah obesitas yang bertambah banyak .\"], \"4\": [\"Ia tiba di India dengan menggunakan pesawat Airbus yang secara khusus telah dimodifikasi khusus untuk mengangkutnya pada bulan Februari .\"], \"5\": [\"Kini , berat badannya telah turun drastis sebanyak 323 kilogram dalam tiga bulan .\", \"Sekarang berat badannya tinggal 176,6 kilogram .\"], \"6\": [\"Rencananya , diterangkan oleh dokternya di Mumbai , ia akan menjalani fisioterapi selama setahun penuh di rumah sakit VPS Burjeel , Abu Dhabi .\"], \"7\": [\"\\\\u201c Kami telah mengatur tandu hidrolik dari Italia untuk perjalanan Eman dan ia akan didampingi oleh dokter , paramedis dan suster dalam perjalanan pindah ini , \\\\u201d terang Sanet Meyer , direktur medevac di VPS Burjeel , kepada AFP .\"], \"8\": [\"Koran - koran di Uni Emirat Arab melaporkan jika saudara perempuan Abd El Aty , Shaima , tidak setuju dengan penanganan tim medis India .\"], \"9\": [\"\\\\u201c Saya minta bantuan setelah memperhatikan lambatnya cara kerja tim di India , \\\\u201d ungkapnya .\"], \"10\": [\"Abd El Aty tidak pernah meninggalkan rumahnya di Alexandria , kota pelabuhan Mediterania di Mesir selama dua puluh tahun , sebelum akhirnya berangkat ke India .\"], \"11\": [\"Keluarganya memberitahu para dokter jika ia telah didiagnosa dengan penyakit kaki gajah sejak kecil sehingga itu yang menyebabkan ia tidak bisa aktif bergerak .\"], \"12\": [\"Abd El Aty pernah terkena serangan jantung dan menghadapi berbagai penyakit serius sebagai akibat dari berat bedannya seperti diabetes , tekan darah tinggi , hipertensi dan kurang tidur .\"], \"13\": [\"Ia juga tidak dapat berbicara dengan benar dan sebagian tubuhnya lumpuh .\"], \"14\": [\"India dikenal sebagai tujuan turis medis yang mencari pelayanan berkualitas yang jauh lebih murah dibanding jasa yang sama di negara barat dan juga tidak harus menunggu lama .\"], \"15\": [\"Juli tahun lalu , Guinness Book of World Records mencatat warga AS Pauline Potter sebagai wanita terberat dengan berat badan 293 kilogram , jauh di atas berat badan Abd El Aty yang sekarang .\"]}',\n",
              " 16)"
            ]
          },
          "metadata": {},
          "execution_count": 14
        }
      ]
    },
    {
      "cell_type": "code",
      "source": [
        "def paragraph_to_text(raw_paragraph_list):\n",
        "    new_paragraph_list = []\n",
        "    for i, paragraph in enumerate(raw_paragraph_list):\n",
        "        paragraph_list = []\n",
        "        for sentence in paragraph:\n",
        "            sentence = ' '.join(sentence)\n",
        "            paragraph_list.append(sentence)\n",
        "\n",
        "        new_paragraph = ''.join(paragraph_list)\n",
        "        new_paragraph_list.append(new_paragraph)\n",
        "\n",
        "    paragraph_str = ''.join(new_paragraph_list)\n",
        "    return paragraph_str"
      ],
      "metadata": {
        "_uuid": "ed7c8c28-3a95-44bd-ad89-ba2d878607f0",
        "_cell_guid": "9ea60226-caf9-4371-92d7-312dbb6f3a57",
        "jupyter": {
          "outputs_hidden": false
        },
        "execution": {
          "iopub.status.busy": "2024-02-13T02:39:27.856793Z",
          "iopub.execute_input": "2024-02-13T02:39:27.857157Z",
          "iopub.status.idle": "2024-02-13T02:39:27.867587Z",
          "shell.execute_reply.started": "2024-02-13T02:39:27.857123Z",
          "shell.execute_reply": "2024-02-13T02:39:27.866196Z"
        },
        "trusted": true,
        "id": "BaAS2xDNKP5-"
      },
      "execution_count": null,
      "outputs": []
    },
    {
      "cell_type": "code",
      "source": [
        "pl = jsonl_data[0]['paragraphs']\n",
        "paragraph_to_text(pl)"
      ],
      "metadata": {
        "_uuid": "e2765b63-9f44-478e-a7db-563ebba44eeb",
        "_cell_guid": "cafba509-3658-4cfe-b581-34482028509d",
        "jupyter": {
          "outputs_hidden": false
        },
        "execution": {
          "iopub.status.busy": "2024-02-13T02:39:27.870063Z",
          "iopub.execute_input": "2024-02-13T02:39:27.870444Z",
          "iopub.status.idle": "2024-02-13T02:39:27.881938Z",
          "shell.execute_reply.started": "2024-02-13T02:39:27.870413Z",
          "shell.execute_reply": "2024-02-13T02:39:27.880649Z"
        },
        "trusted": true,
        "id": "3JV3A3cdKP5_",
        "colab": {
          "base_uri": "https://localhost:8080/",
          "height": 123
        },
        "outputId": "de220410-b38f-45ed-c3db-fb2fef827500"
      },
      "execution_count": null,
      "outputs": [
        {
          "output_type": "execute_result",
          "data": {
            "text/plain": [
              "'Jakarta , CNN Indonesia - - Dilansir AFP , seorang warga Mesir yang dipercaya sebagai wanita terberat di dunia masuk sebuah rumah sakit di Abu Dhabi Kamis ( 5 / 5 ) , dimana ia akan melanjutkan perawatan setelah menjalankan operasi menurunkan badan di India .Eman Ahmed Abd El Aty memiliki berat badan mencapai 500 kilogram sebelum menjalankan operasi di Mumbai Maret lalu dimana ia mengurangi seperlima dari berat badannya .Ia menderita berbagai macam masalah kesehatan termasuk penyakit gajah , kondisi yang menyebabkan anggota badan membengkak .Abd El Aty diberi diet cairan khusus selama berada di India yang bertujuan menurunkan berat badan .Diet ini memungkinkan dokter melakukan operasi bariatrik , prosedur bypass yang kini sering dilakukan di India dalam menghadapi masalah obesitas yang bertambah banyak .Ia tiba di India dengan menggunakan pesawat Airbus yang secara khusus telah dimodifikasi khusus untuk mengangkutnya pada bulan Februari .Kini , berat badannya telah turun drastis sebanyak 323 kilogram dalam tiga bulan .Sekarang berat badannya tinggal 176,6 kilogram .Rencananya , diterangkan oleh dokternya di Mumbai , ia akan menjalani fisioterapi selama setahun penuh di rumah sakit VPS Burjeel , Abu Dhabi .“ Kami telah mengatur tandu hidrolik dari Italia untuk perjalanan Eman dan ia akan didampingi oleh dokter , paramedis dan suster dalam perjalanan pindah ini , ” terang Sanet Meyer , direktur medevac di VPS Burjeel , kepada AFP .Koran - koran di Uni Emirat Arab melaporkan jika saudara perempuan Abd El Aty , Shaima , tidak setuju dengan penanganan tim medis India .“ Saya minta bantuan setelah memperhatikan lambatnya cara kerja tim di India , ” ungkapnya .Abd El Aty tidak pernah meninggalkan rumahnya di Alexandria , kota pelabuhan Mediterania di Mesir selama dua puluh tahun , sebelum akhirnya berangkat ke India .Keluarganya memberitahu para dokter jika ia telah didiagnosa dengan penyakit kaki gajah sejak kecil sehingga itu yang menyebabkan ia tidak bisa aktif bergerak .Abd El Aty pernah terkena serangan jantung dan menghadapi berbagai penyakit serius sebagai akibat dari berat bedannya seperti diabetes , tekan darah tinggi , hipertensi dan kurang tidur .Ia juga tidak dapat berbicara dengan benar dan sebagian tubuhnya lumpuh .India dikenal sebagai tujuan turis medis yang mencari pelayanan berkualitas yang jauh lebih murah dibanding jasa yang sama di negara barat dan juga tidak harus menunggu lama .Juli tahun lalu , Guinness Book of World Records mencatat warga AS Pauline Potter sebagai wanita terberat dengan berat badan 293 kilogram , jauh di atas berat badan Abd El Aty yang sekarang .'"
            ],
            "application/vnd.google.colaboratory.intrinsic+json": {
              "type": "string"
            }
          },
          "metadata": {},
          "execution_count": 16
        }
      ]
    },
    {
      "cell_type": "code",
      "source": [
        "def id_to_text(raw_paragraph):\n",
        "    words = raw_paragraph.split()\n",
        "    formatted_text = '-'.join(words)\n",
        "    return formatted_text"
      ],
      "metadata": {
        "_uuid": "d1384f71-9483-4b74-888f-da6b689c6477",
        "_cell_guid": "e82cbe97-ac6a-4f3a-b2f7-9ee20b12c2b9",
        "jupyter": {
          "outputs_hidden": false
        },
        "execution": {
          "iopub.status.busy": "2024-02-13T02:39:27.883056Z",
          "iopub.execute_input": "2024-02-13T02:39:27.883723Z",
          "iopub.status.idle": "2024-02-13T02:39:27.893084Z",
          "shell.execute_reply.started": "2024-02-13T02:39:27.883693Z",
          "shell.execute_reply": "2024-02-13T02:39:27.891730Z"
        },
        "trusted": true,
        "id": "0_vY18UwKP5_"
      },
      "execution_count": null,
      "outputs": []
    },
    {
      "cell_type": "code",
      "source": [
        "il = jsonl_data[0]['id']\n",
        "id_to_text(il)"
      ],
      "metadata": {
        "_uuid": "81c40f64-da05-4d53-9d81-57df677eed53",
        "_cell_guid": "02cfe7ee-8ce8-42c5-8185-cb91073cfd2f",
        "jupyter": {
          "outputs_hidden": false
        },
        "execution": {
          "iopub.status.busy": "2024-02-13T02:39:27.896192Z",
          "iopub.execute_input": "2024-02-13T02:39:27.897484Z",
          "iopub.status.idle": "2024-02-13T02:39:27.907116Z",
          "shell.execute_reply.started": "2024-02-13T02:39:27.897434Z",
          "shell.execute_reply": "2024-02-13T02:39:27.906114Z"
        },
        "trusted": true,
        "id": "kLyzElmHKP5_",
        "colab": {
          "base_uri": "https://localhost:8080/",
          "height": 36
        },
        "outputId": "f954b1b7-18fb-49ee-da1e-05be459a8af8"
      },
      "execution_count": null,
      "outputs": [
        {
          "output_type": "execute_result",
          "data": {
            "text/plain": [
              "'1494135000-wanita-terberat-di-dunia-jalani-fisioterapi'"
            ],
            "application/vnd.google.colaboratory.intrinsic+json": {
              "type": "string"
            }
          },
          "metadata": {},
          "execution_count": 18
        }
      ]
    },
    {
      "cell_type": "code",
      "source": [
        "def summary_to_text(raw_summary_list):\n",
        "    summary_list = []\n",
        "    for i, summary in enumerate(raw_summary_list):\n",
        "        summary_list.append(' '.join(summary))\n",
        "\n",
        "    summary_str = ''.join(summary_list)\n",
        "    return summary_str"
      ],
      "metadata": {
        "_uuid": "88f5c0ef-863c-438b-abb9-8089621161db",
        "_cell_guid": "e037fd8e-0899-4c0f-ac77-fc7f96ed4275",
        "jupyter": {
          "outputs_hidden": false
        },
        "execution": {
          "iopub.status.busy": "2024-02-13T02:39:27.908238Z",
          "iopub.execute_input": "2024-02-13T02:39:27.908521Z",
          "iopub.status.idle": "2024-02-13T02:39:27.920297Z",
          "shell.execute_reply.started": "2024-02-13T02:39:27.908497Z",
          "shell.execute_reply": "2024-02-13T02:39:27.919078Z"
        },
        "trusted": true,
        "id": "P12rwyR-KP5_"
      },
      "execution_count": null,
      "outputs": []
    },
    {
      "cell_type": "code",
      "source": [
        "sl = jsonl_data[0]['summary']\n",
        "summary_to_text(sl)"
      ],
      "metadata": {
        "_uuid": "d561793b-2406-49c3-b2aa-cbe082a9052f",
        "_cell_guid": "65826d2d-6116-45a5-9c8a-5bb697fbde70",
        "jupyter": {
          "outputs_hidden": false
        },
        "execution": {
          "iopub.status.busy": "2024-02-13T02:39:27.921469Z",
          "iopub.execute_input": "2024-02-13T02:39:27.921781Z",
          "iopub.status.idle": "2024-02-13T02:39:27.933894Z",
          "shell.execute_reply.started": "2024-02-13T02:39:27.921750Z",
          "shell.execute_reply": "2024-02-13T02:39:27.932551Z"
        },
        "trusted": true,
        "id": "19oaJv-GKP6A",
        "colab": {
          "base_uri": "https://localhost:8080/",
          "height": 70
        },
        "outputId": "3c0afa27-5cce-4d75-bec8-ed1abfbcdfef"
      },
      "execution_count": null,
      "outputs": [
        {
          "output_type": "execute_result",
          "data": {
            "text/plain": [
              "'Eman Ahmed Abd El Aty memiliki berat badan mencapai 500 kilogram sebelum menjalankan operasi di Mumbai Maret lalu dimana ia mengurangi seperlima dari berat badannya .Abd El Aty diberi diet cairan khusus selama berada di India yang bertujuan menurunkan berat badan .Kini , berat badannya telah turun drastis sebanyak 323 kilogram dalam tiga bulan .Sekarang berat badannya tinggal 176,6 kilogram .'"
            ],
            "application/vnd.google.colaboratory.intrinsic+json": {
              "type": "string"
            }
          },
          "metadata": {},
          "execution_count": 20
        }
      ]
    },
    {
      "cell_type": "code",
      "source": [
        "columns_to_check = ['paragraphs', 'id', 'summary']\n",
        "for column in columns_to_check:\n",
        "    column_data = jsonl_data[0][column]\n",
        "    print(f\"{column}: {type(column_data)}\")"
      ],
      "metadata": {
        "_uuid": "b77ce7d9-4153-4815-9c89-4c358edb9ff6",
        "_cell_guid": "80003b6e-c87a-44d6-ae4c-9e6c93442272",
        "jupyter": {
          "outputs_hidden": false
        },
        "execution": {
          "iopub.status.busy": "2024-02-13T02:39:27.935892Z",
          "iopub.execute_input": "2024-02-13T02:39:27.936327Z",
          "iopub.status.idle": "2024-02-13T02:39:27.944686Z",
          "shell.execute_reply.started": "2024-02-13T02:39:27.936293Z",
          "shell.execute_reply": "2024-02-13T02:39:27.943809Z"
        },
        "trusted": true,
        "id": "ON9GKDcPKP6A",
        "colab": {
          "base_uri": "https://localhost:8080/"
        },
        "outputId": "8c7501d3-c921-4ff2-9549-f2fc56a9aa24"
      },
      "execution_count": null,
      "outputs": [
        {
          "output_type": "stream",
          "name": "stdout",
          "text": [
            "paragraphs: <class 'list'>\n",
            "id: <class 'str'>\n",
            "summary: <class 'list'>\n"
          ]
        }
      ]
    },
    {
      "cell_type": "markdown",
      "source": [
        "**<h4>Mengaplikasikan fungsi2 diatas</h4>**"
      ],
      "metadata": {
        "_uuid": "9304d326-d13d-4241-8dac-30ef9f86da77",
        "_cell_guid": "bb57acdf-b32d-4baa-859e-5351a6d77305",
        "trusted": true,
        "id": "vdhWMSQEKP6A"
      }
    },
    {
      "cell_type": "code",
      "source": [
        "def alter_json_data(json_list_data, filename=''):\n",
        "    new_json_list = []\n",
        "    for jsonl_data in tqdm(json_list_data, desc=f'Altering json data {filename}'):\n",
        "        jsonl_data['paragraphs'] = paragraph_to_text(jsonl_data['paragraphs'])\n",
        "        #jsonl_data['id'] = id_to_text(jsonl_data['id'])\n",
        "        jsonl_data['summary'] = summary_to_text(jsonl_data['summary'])\n",
        "\n",
        "        new_json_list.append(jsonl_data)\n",
        "\n",
        "    return new_json_list"
      ],
      "metadata": {
        "_uuid": "1ae65ad0-e51f-461e-b7f4-2d811f9da904",
        "_cell_guid": "a003e00e-8e6e-4acf-996b-b67de0f6bca7",
        "jupyter": {
          "outputs_hidden": false
        },
        "execution": {
          "iopub.status.busy": "2024-02-13T02:39:27.945968Z",
          "iopub.execute_input": "2024-02-13T02:39:27.947146Z",
          "iopub.status.idle": "2024-02-13T02:39:27.955735Z",
          "shell.execute_reply.started": "2024-02-13T02:39:27.947109Z",
          "shell.execute_reply": "2024-02-13T02:39:27.955010Z"
        },
        "trusted": true,
        "id": "R5tncg8HKP6A"
      },
      "execution_count": null,
      "outputs": []
    },
    {
      "cell_type": "code",
      "source": [
        "alter_json_data(jsonl_data)\n",
        "print('hasil konversi teks berita: \\n', jsonl_data[0]['paragraphs'], '\\n')\n",
        "print('hasil konversi ringkasan manual: \\n',jsonl_data[0]['summary'])"
      ],
      "metadata": {
        "_uuid": "e7b7c380-1b2b-4eb6-856d-b1f4b1b86e4a",
        "_cell_guid": "bb571ead-c640-41cd-a462-4f44a9b7b215",
        "jupyter": {
          "outputs_hidden": false
        },
        "execution": {
          "iopub.status.busy": "2024-02-13T02:39:27.957080Z",
          "iopub.execute_input": "2024-02-13T02:39:27.957768Z",
          "iopub.status.idle": "2024-02-13T02:39:28.065096Z",
          "shell.execute_reply.started": "2024-02-13T02:39:27.957737Z",
          "shell.execute_reply": "2024-02-13T02:39:28.064391Z"
        },
        "trusted": true,
        "id": "6TImOpLfKP6A",
        "colab": {
          "base_uri": "https://localhost:8080/"
        },
        "outputId": "d38b7c66-90cf-4428-bf51-b21e7938dd6c"
      },
      "execution_count": null,
      "outputs": [
        {
          "output_type": "stream",
          "name": "stderr",
          "text": [
            "Altering json data : 100%|██████████| 3762/3762 [00:00<00:00, 47761.80it/s]"
          ]
        },
        {
          "output_type": "stream",
          "name": "stdout",
          "text": [
            "hasil konversi teks berita: \n",
            " Jakarta , CNN Indonesia - - Dilansir AFP , seorang warga Mesir yang dipercaya sebagai wanita terberat di dunia masuk sebuah rumah sakit di Abu Dhabi Kamis ( 5 / 5 ) , dimana ia akan melanjutkan perawatan setelah menjalankan operasi menurunkan badan di India .Eman Ahmed Abd El Aty memiliki berat badan mencapai 500 kilogram sebelum menjalankan operasi di Mumbai Maret lalu dimana ia mengurangi seperlima dari berat badannya .Ia menderita berbagai macam masalah kesehatan termasuk penyakit gajah , kondisi yang menyebabkan anggota badan membengkak .Abd El Aty diberi diet cairan khusus selama berada di India yang bertujuan menurunkan berat badan .Diet ini memungkinkan dokter melakukan operasi bariatrik , prosedur bypass yang kini sering dilakukan di India dalam menghadapi masalah obesitas yang bertambah banyak .Ia tiba di India dengan menggunakan pesawat Airbus yang secara khusus telah dimodifikasi khusus untuk mengangkutnya pada bulan Februari .Kini , berat badannya telah turun drastis sebanyak 323 kilogram dalam tiga bulan .Sekarang berat badannya tinggal 176,6 kilogram .Rencananya , diterangkan oleh dokternya di Mumbai , ia akan menjalani fisioterapi selama setahun penuh di rumah sakit VPS Burjeel , Abu Dhabi .“ Kami telah mengatur tandu hidrolik dari Italia untuk perjalanan Eman dan ia akan didampingi oleh dokter , paramedis dan suster dalam perjalanan pindah ini , ” terang Sanet Meyer , direktur medevac di VPS Burjeel , kepada AFP .Koran - koran di Uni Emirat Arab melaporkan jika saudara perempuan Abd El Aty , Shaima , tidak setuju dengan penanganan tim medis India .“ Saya minta bantuan setelah memperhatikan lambatnya cara kerja tim di India , ” ungkapnya .Abd El Aty tidak pernah meninggalkan rumahnya di Alexandria , kota pelabuhan Mediterania di Mesir selama dua puluh tahun , sebelum akhirnya berangkat ke India .Keluarganya memberitahu para dokter jika ia telah didiagnosa dengan penyakit kaki gajah sejak kecil sehingga itu yang menyebabkan ia tidak bisa aktif bergerak .Abd El Aty pernah terkena serangan jantung dan menghadapi berbagai penyakit serius sebagai akibat dari berat bedannya seperti diabetes , tekan darah tinggi , hipertensi dan kurang tidur .Ia juga tidak dapat berbicara dengan benar dan sebagian tubuhnya lumpuh .India dikenal sebagai tujuan turis medis yang mencari pelayanan berkualitas yang jauh lebih murah dibanding jasa yang sama di negara barat dan juga tidak harus menunggu lama .Juli tahun lalu , Guinness Book of World Records mencatat warga AS Pauline Potter sebagai wanita terberat dengan berat badan 293 kilogram , jauh di atas berat badan Abd El Aty yang sekarang . \n",
            "\n",
            "hasil konversi ringkasan manual: \n",
            " Eman Ahmed Abd El Aty memiliki berat badan mencapai 500 kilogram sebelum menjalankan operasi di Mumbai Maret lalu dimana ia mengurangi seperlima dari berat badannya .Abd El Aty diberi diet cairan khusus selama berada di India yang bertujuan menurunkan berat badan .Kini , berat badannya telah turun drastis sebanyak 323 kilogram dalam tiga bulan .Sekarang berat badannya tinggal 176,6 kilogram .\n"
          ]
        },
        {
          "output_type": "stream",
          "name": "stderr",
          "text": [
            "\n"
          ]
        }
      ]
    },
    {
      "cell_type": "code",
      "source": [
        "columns_to_check = ['paragraphs', 'id', 'summary']\n",
        "for column in columns_to_check:\n",
        "    column_data = jsonl_data[0][column]\n",
        "    print(f\"{column}: {type(column_data)}\")"
      ],
      "metadata": {
        "_uuid": "8026c101-983a-479c-b45b-b7ea5765a1e8",
        "_cell_guid": "0b093277-4d31-4f66-9cf1-1886865b4d1e",
        "jupyter": {
          "outputs_hidden": false
        },
        "execution": {
          "iopub.status.busy": "2024-02-13T02:39:28.066299Z",
          "iopub.execute_input": "2024-02-13T02:39:28.066614Z",
          "iopub.status.idle": "2024-02-13T02:39:28.072451Z",
          "shell.execute_reply.started": "2024-02-13T02:39:28.066587Z",
          "shell.execute_reply": "2024-02-13T02:39:28.071353Z"
        },
        "trusted": true,
        "id": "AF0TsRuSKP6A",
        "colab": {
          "base_uri": "https://localhost:8080/"
        },
        "outputId": "02f0f7b0-bb07-407d-ff81-6a93ba3ee7a4"
      },
      "execution_count": null,
      "outputs": [
        {
          "output_type": "stream",
          "name": "stdout",
          "text": [
            "paragraphs: <class 'str'>\n",
            "id: <class 'str'>\n",
            "summary: <class 'str'>\n"
          ]
        }
      ]
    },
    {
      "cell_type": "markdown",
      "source": [
        "<h4>Membuat dataframe untuk tiap file (training, testing, validation)</h4>"
      ],
      "metadata": {
        "_uuid": "5f762ecd-ffb8-45ec-87ed-19d6bab704df",
        "_cell_guid": "bc18fbbc-f9de-4090-b9c3-92df55ef7f68",
        "trusted": true,
        "id": "JWcQQVVOKP6B"
      }
    },
    {
      "cell_type": "code",
      "source": [
        "def create_dataset(jsonl):\n",
        "    header = list(jsonl[0].keys())\n",
        "    dataset_list = []\n",
        "    for json_data in jsonl:\n",
        "        row = []\n",
        "        for h in header:\n",
        "            row.append(json_data[h])\n",
        "        dataset_list.append(row)\n",
        "\n",
        "    return header, dataset_list"
      ],
      "metadata": {
        "_uuid": "fb82003b-b66c-4276-8be9-6f06e0e823d2",
        "_cell_guid": "623e9217-a531-4161-b5b7-b567ea0ff68c",
        "jupyter": {
          "outputs_hidden": false
        },
        "execution": {
          "iopub.status.busy": "2024-02-13T02:39:28.349447Z",
          "iopub.execute_input": "2024-02-13T02:39:28.350133Z",
          "iopub.status.idle": "2024-02-13T02:39:28.355101Z",
          "shell.execute_reply.started": "2024-02-13T02:39:28.350089Z",
          "shell.execute_reply": "2024-02-13T02:39:28.354454Z"
        },
        "trusted": true,
        "id": "yHdR53LgKP6B"
      },
      "execution_count": null,
      "outputs": []
    },
    {
      "cell_type": "code",
      "source": [
        "def load_file_to_json_list(filename):\n",
        "    file = os.path.join(DATASET_ROOT, filename)\n",
        "    data = []\n",
        "    with open(file, 'r') as f:\n",
        "        json_list = list(f)\n",
        "        for json_str in tqdm(json_list, desc=f'Loading data {filename}'):\n",
        "            d = json.loads(json_str)\n",
        "            data.append(d)\n",
        "    return data"
      ],
      "metadata": {
        "_uuid": "692cb5b7-a1f4-4099-8dee-3610b3ee9cee",
        "_cell_guid": "45445779-1c0b-439d-9b13-97797092c7d6",
        "jupyter": {
          "outputs_hidden": false
        },
        "execution": {
          "iopub.status.busy": "2024-02-13T02:39:28.731038Z",
          "iopub.execute_input": "2024-02-13T02:39:28.731658Z",
          "iopub.status.idle": "2024-02-13T02:39:28.738176Z",
          "shell.execute_reply.started": "2024-02-13T02:39:28.731620Z",
          "shell.execute_reply": "2024-02-13T02:39:28.736318Z"
        },
        "trusted": true,
        "id": "sVNcLJcAKP6B"
      },
      "execution_count": null,
      "outputs": []
    },
    {
      "cell_type": "code",
      "source": [
        "def create_dataset_from_files(file_list):\n",
        "    df_header = None\n",
        "    dataset_list = []\n",
        "    for filename in file_list:\n",
        "        json_l = load_file_to_json_list(filename)\n",
        "        new_json_l = alter_json_data(json_l, filename)\n",
        "        header, dataset_part = create_dataset(new_json_l)\n",
        "\n",
        "        if not df_header: df_header = header\n",
        "        dataset_list.extend(dataset_part)\n",
        "\n",
        "    df_full = pd.DataFrame().from_records(dataset_list)\n",
        "    df_full = df_full.rename(columns=dict(enumerate(header)))\n",
        "    return df_full"
      ],
      "metadata": {
        "_uuid": "d234f30d-a1c8-41fb-be0c-3cc903abed3c",
        "_cell_guid": "016940a1-7f4f-41ab-a7e7-582e6b1cbd59",
        "jupyter": {
          "outputs_hidden": false
        },
        "execution": {
          "iopub.status.busy": "2024-02-13T02:39:29.151664Z",
          "iopub.execute_input": "2024-02-13T02:39:29.152121Z",
          "iopub.status.idle": "2024-02-13T02:39:29.159509Z",
          "shell.execute_reply.started": "2024-02-13T02:39:29.152085Z",
          "shell.execute_reply": "2024-02-13T02:39:29.157857Z"
        },
        "trusted": true,
        "id": "yleCNgW2KP6B"
      },
      "execution_count": null,
      "outputs": []
    },
    {
      "cell_type": "code",
      "source": [
        "def filter_columns(dataframe):\n",
        "    # Memilih kolom yang ingin dipertahankan\n",
        "    selected_columns = ['id', 'paragraphs', 'summary']\n",
        "\n",
        "    # Menghapus kolom yang tidak termasuk dalam selected_columns\n",
        "    filtered_dataframe = dataframe[selected_columns]\n",
        "\n",
        "    return filtered_dataframe"
      ],
      "metadata": {
        "_uuid": "e0a97954-3bdb-43b4-8b38-2e9182bb0fd2",
        "_cell_guid": "0a2ca07d-05a5-4be4-adfc-8a996600483e",
        "jupyter": {
          "outputs_hidden": false
        },
        "execution": {
          "iopub.status.busy": "2024-02-13T02:39:29.550305Z",
          "iopub.execute_input": "2024-02-13T02:39:29.550726Z",
          "iopub.status.idle": "2024-02-13T02:39:29.557439Z",
          "shell.execute_reply.started": "2024-02-13T02:39:29.550691Z",
          "shell.execute_reply": "2024-02-13T02:39:29.555644Z"
        },
        "trusted": true,
        "id": "r5L0NZ7uKP6B"
      },
      "execution_count": null,
      "outputs": []
    },
    {
      "cell_type": "code",
      "source": [
        "train_files = [\"train.01.jsonl\"]\n",
        "dev_files = [\"dev.01.jsonl\"]\n",
        "test_files = [\"test.01.jsonl\"]"
      ],
      "metadata": {
        "id": "jNlvBtO3voMH"
      },
      "execution_count": null,
      "outputs": []
    },
    {
      "cell_type": "code",
      "source": [
        "df_train = create_dataset_from_files(train_files)\n",
        "df_dev = create_dataset_from_files(dev_files)\n",
        "df_test = create_dataset_from_files(test_files)"
      ],
      "metadata": {
        "_uuid": "25e516cf-5464-4116-8dda-309a10fc0432",
        "_cell_guid": "309f1e4a-be58-4fca-a362-4d1456e6eb27",
        "jupyter": {
          "outputs_hidden": false
        },
        "execution": {
          "iopub.status.busy": "2024-02-13T02:39:30.164841Z",
          "iopub.execute_input": "2024-02-13T02:39:30.165254Z",
          "iopub.status.idle": "2024-02-13T02:39:56.506421Z",
          "shell.execute_reply.started": "2024-02-13T02:39:30.165219Z",
          "shell.execute_reply": "2024-02-13T02:39:56.505137Z"
        },
        "trusted": true,
        "id": "GxU96VOyKP6B",
        "colab": {
          "base_uri": "https://localhost:8080/"
        },
        "outputId": "d6464c73-1600-45ae-950d-24e27ddc4537"
      },
      "execution_count": null,
      "outputs": [
        {
          "output_type": "stream",
          "name": "stderr",
          "text": [
            "Loading data train.01.jsonl: 100%|██████████| 14262/14262 [00:02<00:00, 6238.35it/s]\n",
            "Altering json data train.01.jsonl: 100%|██████████| 14262/14262 [00:00<00:00, 46288.05it/s]\n",
            "Loading data dev.01.jsonl: 100%|██████████| 750/750 [00:00<00:00, 18647.65it/s]\n",
            "Altering json data dev.01.jsonl: 100%|██████████| 750/750 [00:00<00:00, 44580.42it/s]\n",
            "Loading data test.01.jsonl: 100%|██████████| 3762/3762 [00:00<00:00, 18489.23it/s]\n",
            "Altering json data test.01.jsonl: 100%|██████████| 3762/3762 [00:00<00:00, 44849.94it/s]\n"
          ]
        }
      ]
    },
    {
      "cell_type": "code",
      "source": [
        "df_train = filter_columns(df_train)\n",
        "df_dev = filter_columns(df_dev)\n",
        "df_test = filter_columns(df_test)"
      ],
      "metadata": {
        "_uuid": "f58f9c2f-b778-415e-a592-bab5cb14b605",
        "_cell_guid": "d6576fcc-ce52-437d-bd2f-c95ab845921b",
        "jupyter": {
          "outputs_hidden": false
        },
        "execution": {
          "iopub.status.busy": "2024-02-13T02:39:56.508791Z",
          "iopub.execute_input": "2024-02-13T02:39:56.509151Z",
          "iopub.status.idle": "2024-02-13T02:39:56.719527Z",
          "shell.execute_reply.started": "2024-02-13T02:39:56.509120Z",
          "shell.execute_reply": "2024-02-13T02:39:56.718341Z"
        },
        "trusted": true,
        "id": "_t4Tz1AKKP6B"
      },
      "execution_count": null,
      "outputs": []
    },
    {
      "cell_type": "code",
      "source": [
        "df_train.sample(5)"
      ],
      "metadata": {
        "_uuid": "3c45aeef-2881-4687-9e34-9bbcd38b1cb0",
        "_cell_guid": "d3bdd332-dbe2-478d-90a8-e4ee39804a77",
        "jupyter": {
          "outputs_hidden": false
        },
        "execution": {
          "iopub.status.busy": "2024-02-13T02:39:56.721834Z",
          "iopub.execute_input": "2024-02-13T02:39:56.722302Z",
          "iopub.status.idle": "2024-02-13T02:39:56.741590Z",
          "shell.execute_reply.started": "2024-02-13T02:39:56.722268Z",
          "shell.execute_reply": "2024-02-13T02:39:56.740467Z"
        },
        "trusted": true,
        "id": "CYycjwyVKP6B",
        "colab": {
          "base_uri": "https://localhost:8080/",
          "height": 206
        },
        "outputId": "2c977d8d-5ae0-497a-eef7-af02b1e2297d"
      },
      "execution_count": null,
      "outputs": [
        {
          "output_type": "execute_result",
          "data": {
            "text/plain": [
              "                                                      id  \\\n",
              "12154  1508346900-anies-baswedan-resmi-dipolisikan-te...   \n",
              "7857   1509687000-convert-gambar-dan-dokumen-ke-pdf-d...   \n",
              "1482   1503268664-puan-minta-buku-sea-games-yang-muat...   \n",
              "6172   1478991626-nissan-luncurkan-juke-black-pearl-e...   \n",
              "8242   1511892000-32-tim-berebut-jadi-terbaik-di-keju...   \n",
              "\n",
              "                                              paragraphs  \\\n",
              "12154  Jakarta , CNN Indonesia - - Gubernur DKI Jakar...   \n",
              "7857   Pada umumnya , untuk melakukan konversi gambar...   \n",
              "1482   Sikap tegas ditunjukkan pemerintah Indonesia t...   \n",
              "6172   Suara.com - Nissan pada Kamis ( 10 / 11 / 2016...   \n",
              "8242   BOLASPORT.COM – Kejuaraan Nasional ( Kejurnas ...   \n",
              "\n",
              "                                                 summary  \n",
              "12154  Gubernur DKI Jakarta Anies Baswedan resmi dila...  \n",
              "7857     Anda dapat    mengubah dokumen ke format PDF...  \n",
              "1482   Sikap tegas ditunjukkan pemerintah Indonesia t...  \n",
              "6172   Nissan telah memperkenalkan Nissan Juke Black ...  \n",
              "8242   Kejurnas yang diikuti 16 tim putra dan 16 tim ...  "
            ],
            "text/html": [
              "\n",
              "  <div id=\"df-4570a956-4797-4ce6-bad5-2349f302833a\" class=\"colab-df-container\">\n",
              "    <div>\n",
              "<style scoped>\n",
              "    .dataframe tbody tr th:only-of-type {\n",
              "        vertical-align: middle;\n",
              "    }\n",
              "\n",
              "    .dataframe tbody tr th {\n",
              "        vertical-align: top;\n",
              "    }\n",
              "\n",
              "    .dataframe thead th {\n",
              "        text-align: right;\n",
              "    }\n",
              "</style>\n",
              "<table border=\"1\" class=\"dataframe\">\n",
              "  <thead>\n",
              "    <tr style=\"text-align: right;\">\n",
              "      <th></th>\n",
              "      <th>id</th>\n",
              "      <th>paragraphs</th>\n",
              "      <th>summary</th>\n",
              "    </tr>\n",
              "  </thead>\n",
              "  <tbody>\n",
              "    <tr>\n",
              "      <th>12154</th>\n",
              "      <td>1508346900-anies-baswedan-resmi-dipolisikan-te...</td>\n",
              "      <td>Jakarta , CNN Indonesia - - Gubernur DKI Jakar...</td>\n",
              "      <td>Gubernur DKI Jakarta Anies Baswedan resmi dila...</td>\n",
              "    </tr>\n",
              "    <tr>\n",
              "      <th>7857</th>\n",
              "      <td>1509687000-convert-gambar-dan-dokumen-ke-pdf-d...</td>\n",
              "      <td>Pada umumnya , untuk melakukan konversi gambar...</td>\n",
              "      <td>Anda dapat    mengubah dokumen ke format PDF...</td>\n",
              "    </tr>\n",
              "    <tr>\n",
              "      <th>1482</th>\n",
              "      <td>1503268664-puan-minta-buku-sea-games-yang-muat...</td>\n",
              "      <td>Sikap tegas ditunjukkan pemerintah Indonesia t...</td>\n",
              "      <td>Sikap tegas ditunjukkan pemerintah Indonesia t...</td>\n",
              "    </tr>\n",
              "    <tr>\n",
              "      <th>6172</th>\n",
              "      <td>1478991626-nissan-luncurkan-juke-black-pearl-e...</td>\n",
              "      <td>Suara.com - Nissan pada Kamis ( 10 / 11 / 2016...</td>\n",
              "      <td>Nissan telah memperkenalkan Nissan Juke Black ...</td>\n",
              "    </tr>\n",
              "    <tr>\n",
              "      <th>8242</th>\n",
              "      <td>1511892000-32-tim-berebut-jadi-terbaik-di-keju...</td>\n",
              "      <td>BOLASPORT.COM – Kejuaraan Nasional ( Kejurnas ...</td>\n",
              "      <td>Kejurnas yang diikuti 16 tim putra dan 16 tim ...</td>\n",
              "    </tr>\n",
              "  </tbody>\n",
              "</table>\n",
              "</div>\n",
              "    <div class=\"colab-df-buttons\">\n",
              "\n",
              "  <div class=\"colab-df-container\">\n",
              "    <button class=\"colab-df-convert\" onclick=\"convertToInteractive('df-4570a956-4797-4ce6-bad5-2349f302833a')\"\n",
              "            title=\"Convert this dataframe to an interactive table.\"\n",
              "            style=\"display:none;\">\n",
              "\n",
              "  <svg xmlns=\"http://www.w3.org/2000/svg\" height=\"24px\" viewBox=\"0 -960 960 960\">\n",
              "    <path d=\"M120-120v-720h720v720H120Zm60-500h600v-160H180v160Zm220 220h160v-160H400v160Zm0 220h160v-160H400v160ZM180-400h160v-160H180v160Zm440 0h160v-160H620v160ZM180-180h160v-160H180v160Zm440 0h160v-160H620v160Z\"/>\n",
              "  </svg>\n",
              "    </button>\n",
              "\n",
              "  <style>\n",
              "    .colab-df-container {\n",
              "      display:flex;\n",
              "      gap: 12px;\n",
              "    }\n",
              "\n",
              "    .colab-df-convert {\n",
              "      background-color: #E8F0FE;\n",
              "      border: none;\n",
              "      border-radius: 50%;\n",
              "      cursor: pointer;\n",
              "      display: none;\n",
              "      fill: #1967D2;\n",
              "      height: 32px;\n",
              "      padding: 0 0 0 0;\n",
              "      width: 32px;\n",
              "    }\n",
              "\n",
              "    .colab-df-convert:hover {\n",
              "      background-color: #E2EBFA;\n",
              "      box-shadow: 0px 1px 2px rgba(60, 64, 67, 0.3), 0px 1px 3px 1px rgba(60, 64, 67, 0.15);\n",
              "      fill: #174EA6;\n",
              "    }\n",
              "\n",
              "    .colab-df-buttons div {\n",
              "      margin-bottom: 4px;\n",
              "    }\n",
              "\n",
              "    [theme=dark] .colab-df-convert {\n",
              "      background-color: #3B4455;\n",
              "      fill: #D2E3FC;\n",
              "    }\n",
              "\n",
              "    [theme=dark] .colab-df-convert:hover {\n",
              "      background-color: #434B5C;\n",
              "      box-shadow: 0px 1px 3px 1px rgba(0, 0, 0, 0.15);\n",
              "      filter: drop-shadow(0px 1px 2px rgba(0, 0, 0, 0.3));\n",
              "      fill: #FFFFFF;\n",
              "    }\n",
              "  </style>\n",
              "\n",
              "    <script>\n",
              "      const buttonEl =\n",
              "        document.querySelector('#df-4570a956-4797-4ce6-bad5-2349f302833a button.colab-df-convert');\n",
              "      buttonEl.style.display =\n",
              "        google.colab.kernel.accessAllowed ? 'block' : 'none';\n",
              "\n",
              "      async function convertToInteractive(key) {\n",
              "        const element = document.querySelector('#df-4570a956-4797-4ce6-bad5-2349f302833a');\n",
              "        const dataTable =\n",
              "          await google.colab.kernel.invokeFunction('convertToInteractive',\n",
              "                                                    [key], {});\n",
              "        if (!dataTable) return;\n",
              "\n",
              "        const docLinkHtml = 'Like what you see? Visit the ' +\n",
              "          '<a target=\"_blank\" href=https://colab.research.google.com/notebooks/data_table.ipynb>data table notebook</a>'\n",
              "          + ' to learn more about interactive tables.';\n",
              "        element.innerHTML = '';\n",
              "        dataTable['output_type'] = 'display_data';\n",
              "        await google.colab.output.renderOutput(dataTable, element);\n",
              "        const docLink = document.createElement('div');\n",
              "        docLink.innerHTML = docLinkHtml;\n",
              "        element.appendChild(docLink);\n",
              "      }\n",
              "    </script>\n",
              "  </div>\n",
              "\n",
              "\n",
              "<div id=\"df-42e8cea8-0977-479e-8b4d-da777362fdcb\">\n",
              "  <button class=\"colab-df-quickchart\" onclick=\"quickchart('df-42e8cea8-0977-479e-8b4d-da777362fdcb')\"\n",
              "            title=\"Suggest charts\"\n",
              "            style=\"display:none;\">\n",
              "\n",
              "<svg xmlns=\"http://www.w3.org/2000/svg\" height=\"24px\"viewBox=\"0 0 24 24\"\n",
              "     width=\"24px\">\n",
              "    <g>\n",
              "        <path d=\"M19 3H5c-1.1 0-2 .9-2 2v14c0 1.1.9 2 2 2h14c1.1 0 2-.9 2-2V5c0-1.1-.9-2-2-2zM9 17H7v-7h2v7zm4 0h-2V7h2v10zm4 0h-2v-4h2v4z\"/>\n",
              "    </g>\n",
              "</svg>\n",
              "  </button>\n",
              "\n",
              "<style>\n",
              "  .colab-df-quickchart {\n",
              "      --bg-color: #E8F0FE;\n",
              "      --fill-color: #1967D2;\n",
              "      --hover-bg-color: #E2EBFA;\n",
              "      --hover-fill-color: #174EA6;\n",
              "      --disabled-fill-color: #AAA;\n",
              "      --disabled-bg-color: #DDD;\n",
              "  }\n",
              "\n",
              "  [theme=dark] .colab-df-quickchart {\n",
              "      --bg-color: #3B4455;\n",
              "      --fill-color: #D2E3FC;\n",
              "      --hover-bg-color: #434B5C;\n",
              "      --hover-fill-color: #FFFFFF;\n",
              "      --disabled-bg-color: #3B4455;\n",
              "      --disabled-fill-color: #666;\n",
              "  }\n",
              "\n",
              "  .colab-df-quickchart {\n",
              "    background-color: var(--bg-color);\n",
              "    border: none;\n",
              "    border-radius: 50%;\n",
              "    cursor: pointer;\n",
              "    display: none;\n",
              "    fill: var(--fill-color);\n",
              "    height: 32px;\n",
              "    padding: 0;\n",
              "    width: 32px;\n",
              "  }\n",
              "\n",
              "  .colab-df-quickchart:hover {\n",
              "    background-color: var(--hover-bg-color);\n",
              "    box-shadow: 0 1px 2px rgba(60, 64, 67, 0.3), 0 1px 3px 1px rgba(60, 64, 67, 0.15);\n",
              "    fill: var(--button-hover-fill-color);\n",
              "  }\n",
              "\n",
              "  .colab-df-quickchart-complete:disabled,\n",
              "  .colab-df-quickchart-complete:disabled:hover {\n",
              "    background-color: var(--disabled-bg-color);\n",
              "    fill: var(--disabled-fill-color);\n",
              "    box-shadow: none;\n",
              "  }\n",
              "\n",
              "  .colab-df-spinner {\n",
              "    border: 2px solid var(--fill-color);\n",
              "    border-color: transparent;\n",
              "    border-bottom-color: var(--fill-color);\n",
              "    animation:\n",
              "      spin 1s steps(1) infinite;\n",
              "  }\n",
              "\n",
              "  @keyframes spin {\n",
              "    0% {\n",
              "      border-color: transparent;\n",
              "      border-bottom-color: var(--fill-color);\n",
              "      border-left-color: var(--fill-color);\n",
              "    }\n",
              "    20% {\n",
              "      border-color: transparent;\n",
              "      border-left-color: var(--fill-color);\n",
              "      border-top-color: var(--fill-color);\n",
              "    }\n",
              "    30% {\n",
              "      border-color: transparent;\n",
              "      border-left-color: var(--fill-color);\n",
              "      border-top-color: var(--fill-color);\n",
              "      border-right-color: var(--fill-color);\n",
              "    }\n",
              "    40% {\n",
              "      border-color: transparent;\n",
              "      border-right-color: var(--fill-color);\n",
              "      border-top-color: var(--fill-color);\n",
              "    }\n",
              "    60% {\n",
              "      border-color: transparent;\n",
              "      border-right-color: var(--fill-color);\n",
              "    }\n",
              "    80% {\n",
              "      border-color: transparent;\n",
              "      border-right-color: var(--fill-color);\n",
              "      border-bottom-color: var(--fill-color);\n",
              "    }\n",
              "    90% {\n",
              "      border-color: transparent;\n",
              "      border-bottom-color: var(--fill-color);\n",
              "    }\n",
              "  }\n",
              "</style>\n",
              "\n",
              "  <script>\n",
              "    async function quickchart(key) {\n",
              "      const quickchartButtonEl =\n",
              "        document.querySelector('#' + key + ' button');\n",
              "      quickchartButtonEl.disabled = true;  // To prevent multiple clicks.\n",
              "      quickchartButtonEl.classList.add('colab-df-spinner');\n",
              "      try {\n",
              "        const charts = await google.colab.kernel.invokeFunction(\n",
              "            'suggestCharts', [key], {});\n",
              "      } catch (error) {\n",
              "        console.error('Error during call to suggestCharts:', error);\n",
              "      }\n",
              "      quickchartButtonEl.classList.remove('colab-df-spinner');\n",
              "      quickchartButtonEl.classList.add('colab-df-quickchart-complete');\n",
              "    }\n",
              "    (() => {\n",
              "      let quickchartButtonEl =\n",
              "        document.querySelector('#df-42e8cea8-0977-479e-8b4d-da777362fdcb button');\n",
              "      quickchartButtonEl.style.display =\n",
              "        google.colab.kernel.accessAllowed ? 'block' : 'none';\n",
              "    })();\n",
              "  </script>\n",
              "</div>\n",
              "    </div>\n",
              "  </div>\n"
            ],
            "application/vnd.google.colaboratory.intrinsic+json": {
              "type": "dataframe",
              "summary": "{\n  \"name\": \"df_train\",\n  \"rows\": 5,\n  \"fields\": [\n    {\n      \"column\": \"id\",\n      \"properties\": {\n        \"dtype\": \"string\",\n        \"num_unique_values\": 5,\n        \"samples\": [\n          \"1509687000-convert-gambar-dan-dokumen-ke-pdf-di-windows-10\",\n          \"1511892000-32-tim-berebut-jadi-terbaik-di-kejurnas-voli-antar\",\n          \"1503268664-puan-minta-buku-sea-games-yang-muat-bendera-indone\"\n        ],\n        \"semantic_type\": \"\",\n        \"description\": \"\"\n      }\n    },\n    {\n      \"column\": \"paragraphs\",\n      \"properties\": {\n        \"dtype\": \"string\",\n        \"num_unique_values\": 5,\n        \"samples\": [\n          \"Pada umumnya , untuk melakukan konversi gambar atau dokumen ke PDF membutuhkan bantuan aplikasi .Tapi di banyak versi Windows termasuk \\u00a0 Windows 10 , Anda bisa kok mengubah gambar dan dokumen ke format PDF tanpa menggunakan aplikasi pihak ketiga atau layanan online lainnya .Mari kita coba satu per satu .Selanjutnya , mari kita coba convert dokumen word ke PDF .Secara umum langkahnya hampir sama .Oya , di tutorial ini saya menggunakan Office 2016 ya .Cukup mudah kan ?Tapi , jika Anda lebih menyukai metode lain , Anda bisa mencoba beberapa alternatif :DailySocial.id adalah portal berita startup dan inovasi teknologi .Kamu bisa menjadi member komunitas startup dan inovasi DailySocial.id , mengunduh laporan riset dan statistik seputar teknologi secara cuma-cuma , dan mengikuti berita startup Indonesia dan gadget terbaru .\",\n          \"BOLASPORT.COM \\u2013 Kejuaraan Nasional ( Kejurnas ) Voli Antarklub U - 17 yang diikuti 32 tim digelar di GOR Amongrogo , Yogyakarta , Selasa ( 28 / 11 / 2017 ) sampai Minggu ( 3 / 12 / 2017 ) .Kejurnas yang diikuti 16 tim putra dan 16 tim putri akan memperebutkan hadiah sebesar Rp 50 juta .Kejurnas diikuti tim-tim dari 10 provinsi , yaitu DKI Jakarta , Jawa Timur , Jawa Barat , Banten , Jawa Tengah , Bali , Kalimantan Timur , Kalimantan Barat , Sulawesi Utara , dan tuan rumah DI Yogyakarta .\\u201c Ini menjadi kejuaraan nasional yang bergengsi di tingkat remaja .Terutama setelah kejuaraan ini menjadi agenda resmi PB PVSI .Sebelumnya , ini masih merupakan invitasi dan kemudian menjadi kejurnas , \\u201d kata ketua panitia pelaksana , Danang Agus Yuniarto .\\u201c Kejuaraan itu menggairahkan voli di daerah karena untuk lolos ke kejurnas , tim harus menempati peringkat atas di kejuaraan daerah .Total ada 10 provinsi yang menurunkan tim-tim terbaiknya .Dari DIY sebagai tuan rumah ada Yuso dan Ganevo yang menurunan tim putra dan putri , \\u201d jelasnya .Jatim menurunkan tim terbanyak .Tercatat BMC Malang dan Sparta Sidoarjo yang menurunkan tim putra dan putri .Sedangkan Rumkital tampil di kelompok putri dan IVOP Pacitan di kelompok putra .Disusul DKI yang menurunkan lima tim .Selain Vobgard yang menjadi juara bertahan di kelompok putra , DKI menurunkan JVC dan Mandala ( putra ) , serta Satria Muda dan Vobgard ( putri ) .Danang berharap para pelajar bisa datang untuk menyaksikan pertandingan voli .Menurut dia pihaknya belajar bagaimana even bola basket seperti DBL bisa disaksikan banyak pelajar .\\u201c Mereka datang untuk menyaksikan pertandingan basket DBL .Kami akan mengemas kejuaraan ini sehingga bisa menarik perhatian pelajar .Apalagi pemain yang bertanding rata-rata seusia mereka , \\u201d katanya lagi .\",\n          \"Sikap tegas ditunjukkan pemerintah Indonesia terkait insiden pemuatan foto bendera Indonesia terbalik di Buku Panduan Resmi SEA Games 2017 .Selain mengajukan protes keras , pemerintah juga meminta buku yang menjadi suvenir Upacara Pembukaan SEA Games 2017 itu ditarik dari peredaran .\\u201c Kami meminta buku yang telah beredar itu bisa segera ditarik dari peredaran .Kemudian , diganti dengan foto bendera kita yang benar baru diedarkan kembali , \\u201d ujar Menteri Koordinator Pembangunan Manusia dan Kebudayaan , Puan Maharani , di Kuala Lumpur , Malaysia , Minggu ( 20 / 8 ) .Ia menambahkan , sesaat setelah peristiwa itu ramai diberitakan , Kementerian Luar Negeri langsung menyampaikan protes keras kepada pemerintah Malaysia .Pemerintah , lanjut Puan , sangat menyesalkan kejadian tersebut apalagi dalam event sebesar SEA Games .\\u201c Karena ini \\u2018 kan berkaitan dengan nama Indonesia .Simbol negara .Kemlu tentu sudah melapor hal ini kepada Presiden .Tapi , masalah ini akan ditindaklanjuti oleh kami ( Kemenko PMK dan Kemenpora ) yang berada di Kuala Lumpur saat ini , \\u201d katanya .Selain kesalahan pada pemasangan bendera Merah Putih di Buku Panduan Resmi SEA Games 2017 , peristiwa serupa kembali terjadi pada sebuah koran lokal .Dalam Harian Metro edisi Minggu ( 20 / 8 ) , bendera Indonesia dipasang terbalik menjadi putih merah .Tak hanya sekali , gambar itu bahkan terpampang hingga dua kali .Atas insiden di buku panduan , Panitia Penyelenggara SEA Games 2017 ( MASOC ) sudah mengeluarkan surat permintaan maaf terkait insiden itu .Dalam surat itu , pihak MASOC menyesali kesalahan yang telah mereka lakukan dan meminta maaf kepada seluruh rakyat Indonesia .\\\" Kami ingin memohon maaf kepada rakyat Indonesia atas kesalahan yang tidak disengaja dalam mencetak bendera Indonesia dalam buku cendera mata tersebut .MASOC dan Menteri Belia dan Sukan , YB Brig Jen Khairy Jamaluddin , akan membuat kunjungan hormat ke Imam Nahrawi pada hari esok untuk sekali lagi memohon maaf , \\\" tulis surat tersebut .Khairy juga meminta maaf kepada Menpora Imam Nahrawi lewat Twitter .\"\n        ],\n        \"semantic_type\": \"\",\n        \"description\": \"\"\n      }\n    },\n    {\n      \"column\": \"summary\",\n      \"properties\": {\n        \"dtype\": \"string\",\n        \"num_unique_values\": 5,\n        \"samples\": [\n          \"\\u00a0 Anda dapat \\u00a0  mengubah dokumen ke format PDF tanpa menggunakan aplikasi pihak ketiga atau layanan online .Untuk mengkonversi gambar , \\u00a0  buka foto yang hendak dikonversi formatnya menggunakan aplikasi Photos , klik menu tiga titik di sebelah paling kanan dan klik Print .Pastikan printer yang tampil adalah Microsoft Print to PDF , kemudian sesuaikan pengaturan lainnya .Cara yang sama dapat diterapkan pada kenis dokumen lain .\",\n          \"Kejurnas yang diikuti 16 tim putra dan 16 tim putri akan memperebutkan hadiah sebesar Rp 50 juta .Kejurnas diikuti tim dari 10 provinsi , yaitu DKI Jakarta , Jawa Timur , Jawa Barat , Banten , Jawa Tengah , Bali , Kalimantan Timur , Kalimantan Barat , Sulawesi Utara , dan DI Yogyakarta .Ini menjadi kejuaraan nasional yang bergengsi di tingkat remaja .Terutama setelah kejuaraan ini menjadi agenda resmi PB PVSI .\",\n          \"Sikap tegas ditunjukkan pemerintah Indonesia terkait insiden pemuatan foto bendera Indonesia terbalik di Buku Panduan Resmi SEA Games 2017 .\\u201c Kami meminta buku yang telah beredar itu bisa segera ditarik dari peredaran .Kemudian , diganti dengan foto bendera kita yang benar baru diedarkan kembali , \\u201d ujar Puan Maharani , di Malaysia , Minggu ( 20 / 8 ) .Kementerian Luar Negeri langsung menyampaikan protes keras kepada pemerintah Malaysia .\"\n        ],\n        \"semantic_type\": \"\",\n        \"description\": \"\"\n      }\n    }\n  ]\n}"
            }
          },
          "metadata": {},
          "execution_count": 32
        }
      ]
    },
    {
      "cell_type": "code",
      "source": [
        "print(len(df_train))\n",
        "print(len(df_dev))\n",
        "print(len(df_test))"
      ],
      "metadata": {
        "_uuid": "6683f28f-d550-4991-84ef-776274749132",
        "_cell_guid": "d0cefe78-e7dd-4db9-bf6d-26ad15a05c19",
        "jupyter": {
          "outputs_hidden": false
        },
        "execution": {
          "iopub.status.busy": "2024-02-13T02:39:56.743703Z",
          "iopub.execute_input": "2024-02-13T02:39:56.744015Z",
          "iopub.status.idle": "2024-02-13T02:39:56.750385Z",
          "shell.execute_reply.started": "2024-02-13T02:39:56.743976Z",
          "shell.execute_reply": "2024-02-13T02:39:56.749204Z"
        },
        "trusted": true,
        "id": "kIcLZT_aKP6C",
        "colab": {
          "base_uri": "https://localhost:8080/"
        },
        "outputId": "e9e89b5a-352d-42fa-a895-b2ba450ede8f"
      },
      "execution_count": null,
      "outputs": [
        {
          "output_type": "stream",
          "name": "stdout",
          "text": [
            "14262\n",
            "750\n",
            "3762\n"
          ]
        }
      ]
    },
    {
      "cell_type": "markdown",
      "source": [
        "**PREPROCESSING**"
      ],
      "metadata": {
        "_uuid": "1b635d09-e594-40a2-b679-2b2ea10a2616",
        "_cell_guid": "c377352a-87d9-436c-b411-4fb79ec785de",
        "trusted": true,
        "id": "6VTeW0oKKP6C"
      }
    },
    {
      "cell_type": "code",
      "source": [
        "def rm_stopwords_from_text(text):\n",
        "    stop_words = stopwords.words('indonesian')\n",
        "    text = text.split()\n",
        "    word_list = [word for word in text if word not in stop_words]\n",
        "    return ' '.join(word_list)"
      ],
      "metadata": {
        "execution": {
          "iopub.status.busy": "2024-02-13T02:40:11.843504Z",
          "iopub.execute_input": "2024-02-13T02:40:11.843922Z",
          "iopub.status.idle": "2024-02-13T02:40:11.850067Z",
          "shell.execute_reply.started": "2024-02-13T02:40:11.843887Z",
          "shell.execute_reply": "2024-02-13T02:40:11.849145Z"
        },
        "trusted": true,
        "id": "1g4p6xOJKP6C"
      },
      "execution_count": null,
      "outputs": []
    },
    {
      "cell_type": "code",
      "source": [
        "def preprocess_text(text):\n",
        "    #text = rm_stopwords_from_text(text)\n",
        "    if isinstance(text, list):\n",
        "        # If text is a list, join its elements into a single string\n",
        "        text = ' '.join(text)\n",
        "        return text\n",
        "\n",
        "    # Then, perform lowercasing\n",
        "    text = text.lower()\n",
        "\n",
        "    text = re.sub(r'\\d', '', text)\n",
        "\n",
        "    text = text.replace('-', ' ')\n",
        "    text = text.replace('–', ' ')\n",
        "    text = re.sub(r'[()/\\\"“”;:$%&*@#!?.,]', '', text)\n",
        "    text = re.sub(r'\\s+', ' ', text)\n",
        "\n",
        "    text = re.sub(r'\\s+([.,])', r'\\1', text)\n",
        "\n",
        "    text = re.sub(r'\\.(\\S)', r'. \\1', text)\n",
        "\n",
        "    text = text.strip()\n",
        "\n",
        "    return text"
      ],
      "metadata": {
        "_uuid": "bec323c6-6f0e-4b3c-9ae5-cb04f127d329",
        "_cell_guid": "91f58d70-6a7d-4dcc-a20d-3e3ed3deebd8",
        "jupyter": {
          "outputs_hidden": false
        },
        "execution": {
          "iopub.status.busy": "2024-02-13T02:40:12.824179Z",
          "iopub.execute_input": "2024-02-13T02:40:12.824585Z",
          "iopub.status.idle": "2024-02-13T02:40:12.832169Z",
          "shell.execute_reply.started": "2024-02-13T02:40:12.824514Z",
          "shell.execute_reply": "2024-02-13T02:40:12.830917Z"
        },
        "trusted": true,
        "id": "VSN35kndKP6C"
      },
      "execution_count": null,
      "outputs": []
    },
    {
      "cell_type": "code",
      "source": [
        "dataframes_to_preprocess = [df_train, df_dev, df_test]\n",
        "for df in dataframes_to_preprocess:\n",
        "    df['man_summary'] = df['id'] + ' ' + df['summary']\n",
        "\n",
        "    df.drop(['id', 'summary'], axis=1, inplace=True)"
      ],
      "metadata": {
        "_uuid": "844abcdc-ca78-4806-9695-9571d64ea831",
        "_cell_guid": "08b8497e-c804-4b16-a742-2ba098ae62f1",
        "jupyter": {
          "outputs_hidden": false
        },
        "execution": {
          "iopub.status.busy": "2024-02-13T02:40:13.157811Z",
          "iopub.execute_input": "2024-02-13T02:40:13.158194Z",
          "iopub.status.idle": "2024-02-13T02:41:06.734244Z",
          "shell.execute_reply.started": "2024-02-13T02:40:13.158164Z",
          "shell.execute_reply": "2024-02-13T02:41:06.733048Z"
        },
        "trusted": true,
        "id": "qfJRM70sKP6D"
      },
      "execution_count": null,
      "outputs": []
    },
    {
      "cell_type": "code",
      "source": [
        "for df in dataframes_to_preprocess:\n",
        "    df['man_summary'] = df.apply(lambda row: preprocess_text(row['man_summary']), axis=1)\n",
        "\n",
        "    df['paragraphs'] = df.apply(lambda row: preprocess_text(row['paragraphs']), axis=1)"
      ],
      "metadata": {
        "id": "vBp_71bJv9YH"
      },
      "execution_count": null,
      "outputs": []
    },
    {
      "cell_type": "code",
      "source": [
        "preprocess_text(df_train.iloc[2]['man_summary'])"
      ],
      "metadata": {
        "execution": {
          "iopub.status.busy": "2024-02-13T02:41:06.736666Z",
          "iopub.execute_input": "2024-02-13T02:41:06.736990Z",
          "iopub.status.idle": "2024-02-13T02:41:06.745548Z",
          "shell.execute_reply.started": "2024-02-13T02:41:06.736963Z",
          "shell.execute_reply": "2024-02-13T02:41:06.744459Z"
        },
        "trusted": true,
        "id": "W7TgKZUlKP6D",
        "colab": {
          "base_uri": "https://localhost:8080/",
          "height": 70
        },
        "outputId": "15ac3f1f-919a-47c8-b847-581cc7ea1f38"
      },
      "execution_count": null,
      "outputs": [
        {
          "output_type": "execute_result",
          "data": {
            "text/plain": [
              "'songsong visit bengkulu perkuat sdm pariwisat dinas pariwisata provinsi bengkulu kembali menggelar kegiatan bimbingan teknis bimtek sdm kepariwisataan dalam menyongson visit wonderful bengkulu pada november yang lalu kegiatan yang berlangsung pada hingga november kemarin tersebut sebagai bagian dari upaya pemerintah provinsi bengkulu dalam memperkuat sdm pariwisata untuk menyongsong visit wonderful bengkulu'"
            ],
            "application/vnd.google.colaboratory.intrinsic+json": {
              "type": "string"
            }
          },
          "metadata": {},
          "execution_count": 38
        }
      ]
    },
    {
      "cell_type": "code",
      "source": [
        "df_train.iloc[2]['man_summary']"
      ],
      "metadata": {
        "trusted": true,
        "id": "h4aWj5YQKP6D",
        "colab": {
          "base_uri": "https://localhost:8080/",
          "height": 70
        },
        "outputId": "c056a65c-3546-41ad-bccf-c9e016acffd9"
      },
      "execution_count": null,
      "outputs": [
        {
          "output_type": "execute_result",
          "data": {
            "text/plain": [
              "'songsong visit bengkulu perkuat sdm pariwisat dinas pariwisata provinsi bengkulu kembali menggelar kegiatan bimbingan teknis bimtek sdm kepariwisataan dalam menyongson visit wonderful bengkulu pada november yang lalu kegiatan yang berlangsung pada hingga november kemarin tersebut sebagai bagian dari upaya pemerintah provinsi bengkulu dalam memperkuat sdm pariwisata untuk menyongsong visit wonderful bengkulu'"
            ],
            "application/vnd.google.colaboratory.intrinsic+json": {
              "type": "string"
            }
          },
          "metadata": {},
          "execution_count": 39
        }
      ]
    },
    {
      "cell_type": "code",
      "source": [
        "df_train.isna().sum()"
      ],
      "metadata": {
        "_uuid": "29be7d89-5d6a-40a2-88a4-a952e782e920",
        "_cell_guid": "91cb2948-fa78-433d-b521-93c997d92c14",
        "jupyter": {
          "outputs_hidden": false
        },
        "execution": {
          "iopub.status.busy": "2024-02-13T02:41:06.747160Z",
          "iopub.execute_input": "2024-02-13T02:41:06.747459Z",
          "iopub.status.idle": "2024-02-13T02:41:06.765414Z",
          "shell.execute_reply.started": "2024-02-13T02:41:06.747435Z",
          "shell.execute_reply": "2024-02-13T02:41:06.764567Z"
        },
        "trusted": true,
        "id": "E0zt8jM5KP6D",
        "colab": {
          "base_uri": "https://localhost:8080/"
        },
        "outputId": "1bbc8045-9ed4-4e50-e1de-30657c615314"
      },
      "execution_count": null,
      "outputs": [
        {
          "output_type": "execute_result",
          "data": {
            "text/plain": [
              "paragraphs     0\n",
              "man_summary    0\n",
              "dtype: int64"
            ]
          },
          "metadata": {},
          "execution_count": 40
        }
      ]
    },
    {
      "cell_type": "code",
      "source": [
        "df_dev.isna().sum()"
      ],
      "metadata": {
        "_uuid": "4c0b68bc-ac16-4c93-87ff-a18df0c407c9",
        "_cell_guid": "df2ff135-2b06-4850-84ef-de56d1ba05c6",
        "jupyter": {
          "outputs_hidden": false
        },
        "execution": {
          "iopub.status.busy": "2024-02-13T02:41:06.767478Z",
          "iopub.execute_input": "2024-02-13T02:41:06.767922Z",
          "iopub.status.idle": "2024-02-13T02:41:06.776737Z",
          "shell.execute_reply.started": "2024-02-13T02:41:06.767896Z",
          "shell.execute_reply": "2024-02-13T02:41:06.775536Z"
        },
        "trusted": true,
        "id": "uEGxptVJKP6J",
        "colab": {
          "base_uri": "https://localhost:8080/"
        },
        "outputId": "abe21823-2494-4e78-d3d1-9173dc57b09c"
      },
      "execution_count": null,
      "outputs": [
        {
          "output_type": "execute_result",
          "data": {
            "text/plain": [
              "paragraphs     0\n",
              "man_summary    0\n",
              "dtype: int64"
            ]
          },
          "metadata": {},
          "execution_count": 41
        }
      ]
    },
    {
      "cell_type": "code",
      "source": [
        "df_test.isna().sum()"
      ],
      "metadata": {
        "_uuid": "12c3277c-f268-4061-9cc1-b795262bbc60",
        "_cell_guid": "750f6470-2d6f-4860-8b68-866790f46cc4",
        "jupyter": {
          "outputs_hidden": false
        },
        "execution": {
          "iopub.status.busy": "2024-02-13T02:41:06.778317Z",
          "iopub.execute_input": "2024-02-13T02:41:06.778623Z",
          "iopub.status.idle": "2024-02-13T02:41:06.793042Z",
          "shell.execute_reply.started": "2024-02-13T02:41:06.778592Z",
          "shell.execute_reply": "2024-02-13T02:41:06.791665Z"
        },
        "trusted": true,
        "id": "AcuJ4I-bKP6J",
        "colab": {
          "base_uri": "https://localhost:8080/"
        },
        "outputId": "20a69e30-7c5c-42f5-e828-8e4f8e17d6f6"
      },
      "execution_count": null,
      "outputs": [
        {
          "output_type": "execute_result",
          "data": {
            "text/plain": [
              "paragraphs     0\n",
              "man_summary    0\n",
              "dtype: int64"
            ]
          },
          "metadata": {},
          "execution_count": 42
        }
      ]
    },
    {
      "cell_type": "code",
      "source": [
        "df_train.man_summary = df_train.man_summary.apply(lambda x: f'_START_ {x} _END_')\n",
        "df_dev.man_summary = df_dev.man_summary.apply(lambda x: f'_START_ {x} _END_')\n",
        "df_test.man_summary = df_test.man_summary.apply(lambda x: f'_START_ {x} _END_')"
      ],
      "metadata": {
        "execution": {
          "iopub.status.busy": "2024-02-12T05:49:34.693203Z",
          "iopub.execute_input": "2024-02-12T05:49:34.693612Z",
          "iopub.status.idle": "2024-02-12T05:49:34.702035Z",
          "shell.execute_reply.started": "2024-02-12T05:49:34.693578Z",
          "shell.execute_reply": "2024-02-12T05:49:34.700637Z"
        },
        "trusted": true,
        "id": "wXsE3z7UKP6J"
      },
      "execution_count": null,
      "outputs": []
    },
    {
      "cell_type": "code",
      "source": [
        "start_token = 'sostok'\n",
        "end_token = 'eostok'\n",
        "\n",
        "df_train['man_summary'] = df_train['man_summary'].apply(lambda x: f'{start_token} {x} {end_token}')\n",
        "\n",
        "df_dev['man_summary'] = df_dev['man_summary'].apply(lambda x: f'{start_token} {x} {end_token}')\n",
        "\n",
        "df_test['man_summary'] = df_test['man_summary'].apply(lambda x: f'{start_token} {x} {end_token}')"
      ],
      "metadata": {
        "_uuid": "ac08234e-0d52-404d-b62e-057a78a9f887",
        "_cell_guid": "da8948b8-62f2-43c9-aa46-040bef332970",
        "jupyter": {
          "outputs_hidden": false
        },
        "execution": {
          "iopub.status.busy": "2024-02-13T02:41:06.796894Z",
          "iopub.execute_input": "2024-02-13T02:41:06.797243Z",
          "iopub.status.idle": "2024-02-13T02:41:06.816522Z",
          "shell.execute_reply.started": "2024-02-13T02:41:06.797215Z",
          "shell.execute_reply": "2024-02-13T02:41:06.815812Z"
        },
        "trusted": true,
        "id": "ys_UILkaKP6K"
      },
      "execution_count": null,
      "outputs": []
    },
    {
      "cell_type": "code",
      "source": [
        "df_dev.iloc[0]['man_summary']"
      ],
      "metadata": {
        "_uuid": "3f2cbcd2-b3f7-4f0e-a51b-21f9b5ccb17b",
        "_cell_guid": "19630361-bbc2-4c3c-a717-cc7cabde6aa5",
        "jupyter": {
          "outputs_hidden": false
        },
        "execution": {
          "iopub.status.busy": "2024-02-13T02:41:06.817791Z",
          "iopub.execute_input": "2024-02-13T02:41:06.818206Z",
          "iopub.status.idle": "2024-02-13T02:41:06.823008Z",
          "shell.execute_reply.started": "2024-02-13T02:41:06.818182Z",
          "shell.execute_reply": "2024-02-13T02:41:06.822415Z"
        },
        "trusted": true,
        "id": "xgNgY8BkKP6K",
        "colab": {
          "base_uri": "https://localhost:8080/",
          "height": 88
        },
        "outputId": "a32a4364-b428-4b1e-ae0c-eafcbe317d73"
      },
      "execution_count": null,
      "outputs": [
        {
          "output_type": "execute_result",
          "data": {
            "text/plain": [
              "'sostok _START_ mustahil transportasi tradisional dan online bersa ketua mpr zulkifli hasan menyesalkan kisruh yang terjadi antara pelaku sarana transportasi online dan tradisional zulkifli menyarankan adanya pertemuan bersama antara pemerintah pelaku transportasi online dan transportasi tradisional demi meredam kisruh yang masih belum terselesaikan zulkifli menilai aturan yang dikeluarkan pemerintah seharusnya tidak hanya membahas tarif tapi juga mekanisme yang dapat menguntungkan semua pihak baik pelaku transportasi online maupun tradisional _END_ eostok'"
            ],
            "application/vnd.google.colaboratory.intrinsic+json": {
              "type": "string"
            }
          },
          "metadata": {},
          "execution_count": 45
        }
      ]
    },
    {
      "cell_type": "code",
      "source": [],
      "metadata": {
        "_uuid": "7e0b0d9c-bfcc-46fe-aedb-aa273291b12b",
        "_cell_guid": "aaba22f3-aba5-4f8e-96f2-a024ff05807f",
        "jupyter": {
          "outputs_hidden": false
        },
        "trusted": true,
        "id": "39AII4meKP6K"
      },
      "execution_count": null,
      "outputs": []
    },
    {
      "cell_type": "markdown",
      "source": [
        "**<h4>TOKENIZING DAN VEKTORISASI</h4>**"
      ],
      "metadata": {
        "_uuid": "c4d9a78e-aab4-4441-9923-8b4384a61015",
        "_cell_guid": "75b167ee-20cf-45aa-b931-563d6b48d997",
        "trusted": true,
        "id": "9n0uL1yAKP6K"
      }
    },
    {
      "cell_type": "markdown",
      "source": [
        "**<h4>TOKENISASI</h4>**"
      ],
      "metadata": {
        "_uuid": "afa16236-4eec-45dc-bbe4-d4a967e04826",
        "_cell_guid": "c092e129-352b-4401-9792-72ea3ab3a8b1",
        "trusted": true,
        "id": "wziENJrUKP6K"
      }
    },
    {
      "cell_type": "code",
      "source": [
        "max_len_paragraphs = max([len(text.split()) for text in df_train['paragraphs']] +\n",
        "                   [len(text.split()) for text in df_dev['paragraphs']] +\n",
        "                   [len(text.split()) for text in df_test['paragraphs']])\n",
        "\n",
        "max_len_summary = max([len(text.split()) for text in df_train['man_summary']] +\n",
        "                       [len(text.split()) for text in df_dev['man_summary']] +\n",
        "                       [len(text.split()) for text in df_test['man_summary']])\n",
        "\n",
        "print(max_len_paragraphs, max_len_summary)"
      ],
      "metadata": {
        "_uuid": "31f42bcc-4ec6-4c41-8b57-021c092ed2a0",
        "_cell_guid": "82d98318-ccb0-4c71-a320-0111f36ca18a",
        "jupyter": {
          "outputs_hidden": false
        },
        "execution": {
          "iopub.status.busy": "2024-02-13T02:42:55.998233Z",
          "iopub.execute_input": "2024-02-13T02:42:55.998571Z",
          "iopub.status.idle": "2024-02-13T02:42:56.174790Z",
          "shell.execute_reply.started": "2024-02-13T02:42:55.998546Z",
          "shell.execute_reply": "2024-02-13T02:42:56.173155Z"
        },
        "trusted": true,
        "id": "I9Sv6i7wKP6L",
        "colab": {
          "base_uri": "https://localhost:8080/"
        },
        "outputId": "62790a0c-e41a-4a89-c4de-5da8c99a9fac"
      },
      "execution_count": null,
      "outputs": [
        {
          "output_type": "stream",
          "name": "stdout",
          "text": [
            "1235 98\n"
          ]
        }
      ]
    },
    {
      "cell_type": "code",
      "source": [
        "# Data Training\n",
        "x_train = df_train['paragraphs']\n",
        "y_train = df_train['man_summary']\n",
        "\n",
        "# Data test\n",
        "x_val = df_test['paragraphs']\n",
        "y_val = df_test['man_summary']"
      ],
      "metadata": {
        "_uuid": "5055fb2c-a302-483b-807c-13f8d63f1d79",
        "_cell_guid": "7ea9d434-3d1f-4cc4-a63d-074602d06fac",
        "jupyter": {
          "outputs_hidden": false
        },
        "execution": {
          "iopub.status.busy": "2024-02-13T02:42:56.364091Z",
          "iopub.execute_input": "2024-02-13T02:42:56.364476Z",
          "iopub.status.idle": "2024-02-13T02:42:56.370729Z",
          "shell.execute_reply.started": "2024-02-13T02:42:56.364434Z",
          "shell.execute_reply": "2024-02-13T02:42:56.369233Z"
        },
        "trusted": true,
        "id": "SeiCBdreKP6L"
      },
      "execution_count": null,
      "outputs": []
    },
    {
      "cell_type": "code",
      "source": [
        "# Tokenizer for paragraphs\n",
        "x_tokenizer = Tokenizer()\n",
        "x_tokenizer.fit_on_texts(list(x_train))"
      ],
      "metadata": {
        "execution": {
          "iopub.status.busy": "2024-02-13T02:42:56.874745Z",
          "iopub.execute_input": "2024-02-13T02:42:56.875166Z",
          "iopub.status.idle": "2024-02-13T02:42:58.878663Z",
          "shell.execute_reply.started": "2024-02-13T02:42:56.875134Z",
          "shell.execute_reply": "2024-02-13T02:42:58.877463Z"
        },
        "trusted": true,
        "id": "ObNdnnR1KP6L"
      },
      "execution_count": null,
      "outputs": []
    },
    {
      "cell_type": "code",
      "source": [],
      "metadata": {
        "trusted": true,
        "id": "GKGOWpuLKP6L"
      },
      "execution_count": null,
      "outputs": []
    },
    {
      "cell_type": "code",
      "source": [
        "x_train_sequence = x_tokenizer.texts_to_sequences(x_train)\n",
        "x_val_sequence = x_tokenizer.texts_to_sequences(x_val)\n",
        "\n",
        "x_train_pad = pad_sequences(x_train_sequence, maxlen=max_len_paragraphs, padding='post')\n",
        "x_val_pad = pad_sequences(x_val_sequence, maxlen=max_len_paragraphs, padding='post')\n",
        "\n",
        "x_vocab_size = len(x_tokenizer.word_index) + 1\n",
        "\n",
        "# x_vocab_size = x_tokenizer.num_words + 1\n",
        "\n",
        "print(x_vocab_size)"
      ],
      "metadata": {
        "execution": {
          "iopub.status.busy": "2024-02-13T02:42:58.880787Z",
          "iopub.execute_input": "2024-02-13T02:42:58.881116Z",
          "iopub.status.idle": "2024-02-13T02:43:00.570338Z",
          "shell.execute_reply.started": "2024-02-13T02:42:58.881088Z",
          "shell.execute_reply": "2024-02-13T02:43:00.569543Z"
        },
        "trusted": true,
        "id": "6BXkMUGrKP6L",
        "colab": {
          "base_uri": "https://localhost:8080/"
        },
        "outputId": "891bf0c5-8b4c-4ab6-950a-afbbfd55642e"
      },
      "execution_count": null,
      "outputs": [
        {
          "output_type": "stream",
          "name": "stdout",
          "text": [
            "95481\n"
          ]
        }
      ]
    },
    {
      "cell_type": "code",
      "source": [
        "# Tokenizer for summary\n",
        "y_tokenizer = Tokenizer()\n",
        "y_tokenizer.fit_on_texts(list(y_train))"
      ],
      "metadata": {
        "execution": {
          "iopub.status.busy": "2024-02-13T02:43:00.571818Z",
          "iopub.execute_input": "2024-02-13T02:43:00.572161Z",
          "iopub.status.idle": "2024-02-13T02:43:01.152935Z",
          "shell.execute_reply.started": "2024-02-13T02:43:00.572130Z",
          "shell.execute_reply": "2024-02-13T02:43:01.151949Z"
        },
        "trusted": true,
        "id": "Dv-C-d8hKP6M"
      },
      "execution_count": null,
      "outputs": []
    },
    {
      "cell_type": "code",
      "source": [],
      "metadata": {
        "trusted": true,
        "id": "D2lkzlTdKP6M"
      },
      "execution_count": null,
      "outputs": []
    },
    {
      "cell_type": "code",
      "source": [
        "y_train_sequence = y_tokenizer.texts_to_sequences(y_train)\n",
        "y_val_sequence = y_tokenizer.texts_to_sequences(y_val)\n",
        "\n",
        "y_train_pad = pad_sequences(y_train_sequence, maxlen=max_len_summary, padding='post')\n",
        "y_val_pad = pad_sequences(y_val_sequence, maxlen=max_len_summary, padding='post')\n",
        "\n",
        "y_vocab_size = len(y_tokenizer.word_index) + 1\n",
        "\n",
        "# y_vocab_size = y_tokenizer.num_words + 1\n",
        "\n",
        "print(y_vocab_size)"
      ],
      "metadata": {
        "execution": {
          "iopub.status.busy": "2024-02-13T02:43:01.155631Z",
          "iopub.execute_input": "2024-02-13T02:43:01.156029Z",
          "iopub.status.idle": "2024-02-13T02:43:01.671872Z",
          "shell.execute_reply.started": "2024-02-13T02:43:01.155997Z",
          "shell.execute_reply": "2024-02-13T02:43:01.670986Z"
        },
        "trusted": true,
        "id": "PdknsVwxKP6M",
        "colab": {
          "base_uri": "https://localhost:8080/"
        },
        "outputId": "06388fa6-5fc3-4850-e3a7-b209ffb2c8e0"
      },
      "execution_count": null,
      "outputs": [
        {
          "output_type": "stream",
          "name": "stdout",
          "text": [
            "45919\n"
          ]
        }
      ]
    },
    {
      "cell_type": "code",
      "source": [
        "\"\"\"\n",
        "# Tokenizer for paragraphs\n",
        "x_tokenizer = Tokenizer()\n",
        "x_tokenizer.fit_on_texts(list(x_train))\n",
        "x_train_seq = x_tokenizer.texts_to_sequences(x_train)\n",
        "x_dev_seq = x_tokenizer.texts_to_sequences(x_dev)\n",
        "x_train_pad = pad_sequences(x_train_seq, maxlen=max_len_paragraphs, padding='post')\n",
        "x_dev_pad = pad_sequences(x_dev_seq, maxlen=max_len_paragraphs, padding='post')\n",
        "#Vocab size of paragraphs.\n",
        "x_vocab_size = len(x_tokenizer.word_index) + 1\n",
        "print(x_vocab_size)\n",
        "\n",
        "# Tokenizer for summary\n",
        "y_tokenizer = Tokenizer()\n",
        "y_tokenizer.fit_on_texts(list(y_train))\n",
        "y_train_seq =y_tokenizer.texts_to_sequences(y_train)\n",
        "y_dev_seq = y_tokenizer.texts_to_sequences(y_dev)\n",
        "y_train_pad = pad_sequences(y_train_seq, maxlen=max_len_summary, padding='post')\n",
        "y_dev_pad = pad_sequences(y_dev_seq, maxlen=max_len_summary, padding='post')\n",
        "#Vocab size of summaries.\n",
        "y_vocab_size = len(y_tokenizer.word_index) + 1\n",
        "print(y_vocab_size)\n",
        "\"\"\""
      ],
      "metadata": {
        "_uuid": "7c5ab31f-3b44-4917-b6c8-223619182751",
        "_cell_guid": "691dc1d1-2d3b-44ee-8c0f-16511cb85078",
        "jupyter": {
          "outputs_hidden": false
        },
        "execution": {
          "iopub.status.busy": "2024-02-13T02:43:01.673664Z",
          "iopub.execute_input": "2024-02-13T02:43:01.674058Z",
          "iopub.status.idle": "2024-02-13T02:43:01.681884Z",
          "shell.execute_reply.started": "2024-02-13T02:43:01.674025Z",
          "shell.execute_reply": "2024-02-13T02:43:01.680801Z"
        },
        "trusted": true,
        "id": "Zxivl02iKP6N",
        "colab": {
          "base_uri": "https://localhost:8080/",
          "height": 122
        },
        "outputId": "6a6ffde3-068f-48d7-891a-70d94cfde911"
      },
      "execution_count": null,
      "outputs": [
        {
          "output_type": "execute_result",
          "data": {
            "text/plain": [
              "\"\\n# Tokenizer for paragraphs\\nx_tokenizer = Tokenizer()\\nx_tokenizer.fit_on_texts(list(x_train))\\nx_train_seq = x_tokenizer.texts_to_sequences(x_train)\\nx_dev_seq = x_tokenizer.texts_to_sequences(x_dev)\\nx_train_pad = pad_sequences(x_train_seq, maxlen=max_len_paragraphs, padding='post')\\nx_dev_pad = pad_sequences(x_dev_seq, maxlen=max_len_paragraphs, padding='post')\\n#Vocab size of paragraphs.\\nx_vocab_size = len(x_tokenizer.word_index) + 1\\nprint(x_vocab_size)\\n\\n# Tokenizer for summary\\ny_tokenizer = Tokenizer()\\ny_tokenizer.fit_on_texts(list(y_train))\\ny_train_seq =y_tokenizer.texts_to_sequences(y_train)\\ny_dev_seq = y_tokenizer.texts_to_sequences(y_dev)\\ny_train_pad = pad_sequences(y_train_seq, maxlen=max_len_summary, padding='post')\\ny_dev_pad = pad_sequences(y_dev_seq, maxlen=max_len_summary, padding='post')\\n#Vocab size of summaries.\\ny_vocab_size = len(y_tokenizer.word_index) + 1\\nprint(y_vocab_size)\\n\""
            ],
            "application/vnd.google.colaboratory.intrinsic+json": {
              "type": "string"
            }
          },
          "metadata": {},
          "execution_count": 52
        }
      ]
    },
    {
      "cell_type": "code",
      "source": [
        "def remove_indexes(summary_array):\n",
        "    remove_indexes = []\n",
        "    for i in range(len(summary_array)):\n",
        "        count = 0\n",
        "        for j in summary_array[i]:\n",
        "            if j != 0:\n",
        "                count += 1\n",
        "        if count == 2:\n",
        "            remove_indexes.append(i)\n",
        "    return remove_indexes\n",
        "\n",
        "\n",
        "remove_train_indexes = remove_indexes(y_train_pad)\n",
        "remove_val_indexes = remove_indexes(y_val_pad)\n",
        "\n",
        "y_train_pad = np.delete(y_train_pad, remove_train_indexes, axis=0)\n",
        "x_train_pad = np.delete(x_train_pad, remove_train_indexes, axis=0)\n",
        "\n",
        "y_val_pad = np.delete(y_val_pad, remove_val_indexes, axis=0)\n",
        "x_val_pad = np.delete(x_val_pad, remove_val_indexes, axis=0)"
      ],
      "metadata": {
        "execution": {
          "iopub.status.busy": "2024-02-13T02:43:01.683327Z",
          "iopub.execute_input": "2024-02-13T02:43:01.683696Z",
          "iopub.status.idle": "2024-02-13T02:43:02.935347Z",
          "shell.execute_reply.started": "2024-02-13T02:43:01.683663Z",
          "shell.execute_reply": "2024-02-13T02:43:02.933751Z"
        },
        "trusted": true,
        "id": "4plSfEM6KP6N"
      },
      "execution_count": null,
      "outputs": []
    },
    {
      "cell_type": "markdown",
      "source": [
        "<h4>ATTENTION LAYER</h4>\n",
        "\n",
        "\n",
        "source : https://github.com/thushv89/attention_keras/blob/master/src/layers/attention.py"
      ],
      "metadata": {
        "_uuid": "57ca37c5-f183-4d37-9955-5f55d5a8b1df",
        "_cell_guid": "674a934c-a610-418e-a8cb-9660b49fe40b",
        "trusted": true,
        "id": "xNFy-R4KKP6N"
      }
    },
    {
      "cell_type": "code",
      "source": [
        "class AttentionLayer(Layer):\n",
        "    \"\"\"\n",
        "    This class implements Bahdanau att\n",
        "    ention (https://arxiv.org/pdf/1409.0473.pdf).\n",
        "    There are three sets of weights introduced W_a, U_a, and V_a\n",
        "     \"\"\"\n",
        "\n",
        "    def __init__(self, **kwargs):\n",
        "        super(AttentionLayer, self).__init__(**kwargs)\n",
        "\n",
        "    def build(self, input_shape):\n",
        "        assert isinstance(input_shape, list)\n",
        "        # Create a trainable weight variable for this layer.\n",
        "\n",
        "        self.W_a = self.add_weight(name='W_a',\n",
        "                                   shape=tf.TensorShape((input_shape[0][2], input_shape[0][2])),\n",
        "                                   initializer='uniform',\n",
        "                                   trainable=True)\n",
        "        self.U_a = self.add_weight(name='U_a',\n",
        "                                   shape=tf.TensorShape((input_shape[1][2], input_shape[0][2])),\n",
        "                                   initializer='uniform',\n",
        "                                   trainable=True)\n",
        "        self.V_a = self.add_weight(name='V_a',\n",
        "                                   shape=tf.TensorShape((input_shape[0][2], 1)),\n",
        "                                   initializer='uniform',\n",
        "                                   trainable=True)\n",
        "\n",
        "        super(AttentionLayer, self).build(input_shape)  # Be sure to call this at the end\n",
        "\n",
        "    def call(self, inputs, verbose=False):\n",
        "        \"\"\"\n",
        "        inputs: [encoder_output_sequence, decoder_output_sequence]\n",
        "        \"\"\"\n",
        "        assert type(inputs) == list\n",
        "        encoder_out_seq, decoder_out_seq = inputs\n",
        "        if verbose:\n",
        "            print('encoder_out_seq>', encoder_out_seq.shape)\n",
        "            print('decoder_out_seq>', decoder_out_seq.shape)\n",
        "\n",
        "        def energy_step(inputs, states):\n",
        "            \"\"\" Step function for computing energy for a single decoder state \"\"\"\n",
        "\n",
        "            assert_msg = \"States must be a list. However states {} is of type {}\".format(states, type(states))\n",
        "            assert isinstance(states, list) or isinstance(states, tuple), assert_msg\n",
        "\n",
        "            \"\"\" Some parameters required for shaping tensors\"\"\"\n",
        "            en_seq_len, en_hidden = encoder_out_seq.shape[1], encoder_out_seq.shape[2]\n",
        "            de_hidden = inputs.shape[-1]\n",
        "\n",
        "            \"\"\" Computing S.Wa where S=[s0, s1, ..., si]\"\"\"\n",
        "            # <= batch_size*en_seq_len, latent_dim\n",
        "            reshaped_enc_outputs = K.reshape(encoder_out_seq, (-1, en_hidden))\n",
        "            # <= batch_size*en_seq_len, latent_dim\n",
        "            W_a_dot_s = K.reshape(K.dot(reshaped_enc_outputs, self.W_a), (-1, en_seq_len, en_hidden))\n",
        "            if verbose:\n",
        "                print('wa.s>',W_a_dot_s.shape)\n",
        "\n",
        "            \"\"\" Computing hj.Ua \"\"\"\n",
        "            U_a_dot_h = K.expand_dims(K.dot(inputs, self.U_a), 1)  # <= batch_size, 1, latent_dim\n",
        "            if verbose:\n",
        "                print('Ua.h>',U_a_dot_h.shape)\n",
        "\n",
        "            \"\"\" tanh(S.Wa + hj.Ua) \"\"\"\n",
        "            # <= batch_size*en_seq_len, latent_dim\n",
        "            reshaped_Ws_plus_Uh = K.tanh(K.reshape(W_a_dot_s + U_a_dot_h, (-1, en_hidden)))\n",
        "            if verbose:\n",
        "                print('Ws+Uh>', reshaped_Ws_plus_Uh.shape)\n",
        "\n",
        "            \"\"\" softmax(va.tanh(S.Wa + hj.Ua)) \"\"\"\n",
        "            # <= batch_size, en_seq_len\n",
        "            e_i = K.reshape(K.dot(reshaped_Ws_plus_Uh, self.V_a), (-1, en_seq_len))\n",
        "            # <= batch_size, en_seq_len\n",
        "            e_i = K.softmax(e_i)\n",
        "\n",
        "            if verbose:\n",
        "                print('ei>', e_i.shape)\n",
        "\n",
        "            return e_i, [e_i]\n",
        "\n",
        "        def context_step(inputs, states):\n",
        "            \"\"\" Step function for computing ci using ei \"\"\"\n",
        "            # <= batch_size, hidden_size\n",
        "            c_i = K.sum(encoder_out_seq * K.expand_dims(inputs, -1), axis=1)\n",
        "            if verbose:\n",
        "                print('ci>', c_i.shape)\n",
        "            return c_i, [c_i]\n",
        "\n",
        "        def create_inital_state(inputs, hidden_size):\n",
        "            # We are not using initial states, but need to pass something to K.rnn funciton\n",
        "            fake_state = K.zeros_like(inputs)  # <= (batch_size, enc_seq_len, latent_dim\n",
        "            fake_state = K.sum(fake_state, axis=[1, 2])  # <= (batch_size)\n",
        "            fake_state = K.expand_dims(fake_state)  # <= (batch_size, 1)\n",
        "            fake_state = K.tile(fake_state, [1, hidden_size])  # <= (batch_size, latent_dim\n",
        "            return fake_state\n",
        "\n",
        "        fake_state_c = create_inital_state(encoder_out_seq, encoder_out_seq.shape[-1])\n",
        "        fake_state_e = create_inital_state(encoder_out_seq, encoder_out_seq.shape[1])  # <= (batch_size, enc_seq_len, latent_dim\n",
        "\n",
        "        \"\"\" Computing energy outputs \"\"\"\n",
        "        # e_outputs => (batch_size, de_seq_len, en_seq_len)\n",
        "        last_out, e_outputs, _ = K.rnn(\n",
        "            energy_step, decoder_out_seq, [fake_state_e],\n",
        "        )\n",
        "\n",
        "        \"\"\" Computing context vectors \"\"\"\n",
        "        last_out, c_outputs, _ = K.rnn(\n",
        "            context_step, e_outputs, [fake_state_c],\n",
        "        )\n",
        "\n",
        "        return c_outputs, e_outputs\n",
        "\n",
        "    def compute_output_shape(self, input_shape):\n",
        "        \"\"\" Outputs produced by the layer \"\"\"\n",
        "        return [\n",
        "            tf.TensorShape((input_shape[1][0], input_shape[1][1], input_shape[1][2])),\n",
        "            tf.TensorShape((input_shape[1][0], input_shape[1][1], input_shape[0][1]))\n",
        "        ]"
      ],
      "metadata": {
        "_uuid": "9478413f-8198-4cbb-b086-17911ccd321d",
        "_cell_guid": "0c178303-6fe5-4bb4-b9b6-f89ee387111d",
        "jupyter": {
          "outputs_hidden": false
        },
        "execution": {
          "iopub.status.busy": "2024-02-13T02:43:02.937287Z",
          "iopub.execute_input": "2024-02-13T02:43:02.937634Z",
          "iopub.status.idle": "2024-02-13T02:43:02.964636Z",
          "shell.execute_reply.started": "2024-02-13T02:43:02.937592Z",
          "shell.execute_reply": "2024-02-13T02:43:02.963438Z"
        },
        "trusted": true,
        "id": "IPUA1RwLKP6N"
      },
      "execution_count": null,
      "outputs": []
    },
    {
      "cell_type": "markdown",
      "source": [
        "**<h4>VEKTORISASI</h4>**"
      ],
      "metadata": {
        "_uuid": "d03b0112-a57d-441d-9445-5cbc0e74bbf1",
        "_cell_guid": "cb586910-ef49-4223-ae38-d1eddc3dbdbc",
        "trusted": true,
        "id": "lbPojL_8KP6O"
      }
    },
    {
      "cell_type": "code",
      "source": [
        "latent_dim = 64\n",
        "embedding_dim = 300\n",
        "num_epochs = 40"
      ],
      "metadata": {
        "_uuid": "0cbace67-86ed-4fac-b73e-b291a2b61ad4",
        "_cell_guid": "0a160829-199c-48f3-a238-e78237012947",
        "jupyter": {
          "outputs_hidden": false
        },
        "execution": {
          "iopub.status.busy": "2024-02-13T02:43:14.164688Z",
          "iopub.execute_input": "2024-02-13T02:43:14.165109Z",
          "iopub.status.idle": "2024-02-13T02:43:14.169504Z",
          "shell.execute_reply.started": "2024-02-13T02:43:14.165080Z",
          "shell.execute_reply": "2024-02-13T02:43:14.168471Z"
        },
        "trusted": true,
        "id": "7Y7nhjcCKP6O"
      },
      "execution_count": null,
      "outputs": []
    },
    {
      "cell_type": "code",
      "source": [
        "def load_word2vec_model(path):\n",
        "    return gensim.models.Word2Vec.load(path)\n",
        "\n",
        "def get_embedding_matrix_from_word2vec(tokenizer, word2vec_model, embedding_dim, vocab_size=None):\n",
        "    word_index = tokenizer.word_index\n",
        "    voc = list(word_index.keys())\n",
        "\n",
        "    print(\"Found %s word vectors.\" % len(word2vec_model.wv))\n",
        "\n",
        "    num_tokens = len(voc) + 2 if not vocab_size else vocab_size\n",
        "    hits = 0\n",
        "    misses = 0\n",
        "\n",
        "    embedding_matrix = np.zeros((num_tokens, embedding_dim))\n",
        "    for word, i in word_index.items():\n",
        "        try:\n",
        "            embedding_vector = word2vec_model.wv[word]\n",
        "        except KeyError:\n",
        "            embedding_vector = None\n",
        "\n",
        "        if embedding_vector is not None:\n",
        "            embedding_matrix[i] = embedding_vector\n",
        "            hits += 1\n",
        "        else:\n",
        "            misses += 1\n",
        "    print(\"Converted %d words (%d misses)\" % (hits, misses))\n",
        "\n",
        "    return embedding_matrix\n",
        "\n",
        "word2vec_path = '/content/drive/My Drive/word2vec/idwiki_word2vec_300.model'\n",
        "word2vec_model = load_word2vec_model(word2vec_path)\n",
        "\n",
        "x_embedding_matrix = get_embedding_matrix_from_word2vec(x_tokenizer, word2vec_model, embedding_dim, x_vocab_size)\n",
        "y_embedding_matrix = get_embedding_matrix_from_word2vec(y_tokenizer, word2vec_model, embedding_dim, y_vocab_size)"
      ],
      "metadata": {
        "execution": {
          "iopub.status.busy": "2024-02-13T02:43:14.825381Z",
          "iopub.execute_input": "2024-02-13T02:43:14.826046Z",
          "iopub.status.idle": "2024-02-13T02:43:36.381147Z",
          "shell.execute_reply.started": "2024-02-13T02:43:14.826007Z",
          "shell.execute_reply": "2024-02-13T02:43:36.380118Z"
        },
        "trusted": true,
        "id": "gZWxZJ2gKP6O",
        "colab": {
          "base_uri": "https://localhost:8080/"
        },
        "outputId": "f31dadd4-e1aa-4e78-cb22-11ed28a41394"
      },
      "execution_count": null,
      "outputs": [
        {
          "output_type": "stream",
          "name": "stdout",
          "text": [
            "Found 331792 word vectors.\n",
            "Converted 63913 words (31567 misses)\n",
            "Found 331792 word vectors.\n",
            "Converted 37619 words (8299 misses)\n"
          ]
        }
      ]
    },
    {
      "cell_type": "code",
      "source": [
        "print(x_embedding_matrix.shape)\n",
        "print(y_embedding_matrix.shape)"
      ],
      "metadata": {
        "_uuid": "d27ed848-acb4-407b-8cb8-0021ce605a1a",
        "_cell_guid": "371b3222-01b1-409e-852f-23f1edf28163",
        "jupyter": {
          "outputs_hidden": false
        },
        "execution": {
          "iopub.status.busy": "2024-02-13T02:43:36.382827Z",
          "iopub.execute_input": "2024-02-13T02:43:36.383189Z",
          "iopub.status.idle": "2024-02-13T02:43:36.388185Z",
          "shell.execute_reply.started": "2024-02-13T02:43:36.383166Z",
          "shell.execute_reply": "2024-02-13T02:43:36.387004Z"
        },
        "trusted": true,
        "id": "alasZ8t-KP6O",
        "colab": {
          "base_uri": "https://localhost:8080/"
        },
        "outputId": "7b4dbb19-4ebf-46a8-e222-4798a969b69f"
      },
      "execution_count": null,
      "outputs": [
        {
          "output_type": "stream",
          "name": "stdout",
          "text": [
            "(95481, 300)\n",
            "(45919, 300)\n"
          ]
        }
      ]
    },
    {
      "cell_type": "markdown",
      "source": [
        "**<h4>TRAINING MODEL WITH SEQ2SEQ MODEL DAN BILSTM</h4>**"
      ],
      "metadata": {
        "_uuid": "de35ddd7-53cb-45b2-9f84-7699bc3825db",
        "_cell_guid": "dd4d69e5-00be-4cec-9784-59d48a09f967",
        "trusted": true,
        "id": "X3x4uF9lKP6R"
      }
    },
    {
      "cell_type": "code",
      "source": [
        "def build_seq2seq_model_with_bidirectional_lstm(\n",
        "    embedding_dim, latent_dim, max_len_paragraphs,\n",
        "    x_vocab_size, y_vocab_size,\n",
        "    x_embedding_matrix, y_embedding_matrix\n",
        "):\n",
        "    # instantiating the model in the strategy scope creates the model on the TPU\n",
        "    with tpu_strategy.scope():\n",
        "\n",
        "        # =====================\n",
        "        # 🔥 Encoder\n",
        "        # =====================\n",
        "        encoder_input = Input(shape=(max_len_paragraphs, ))\n",
        "\n",
        "        # encoder embedding layer\n",
        "        encoder_embedding = Embedding(\n",
        "            x_vocab_size,\n",
        "            embedding_dim,\n",
        "            embeddings_initializer=tf.keras.initializers.Constant(x_embedding_matrix),\n",
        "            trainable=False,\n",
        "            name='encoder_embedding'\n",
        "        )(encoder_input)\n",
        "\n",
        "        # encoder lstm1\n",
        "        encoder_bi_lstm1 = Bidirectional(\n",
        "            LSTM(\n",
        "                latent_dim,\n",
        "                return_sequences=True,\n",
        "                return_state=True,\n",
        "                dropout=0.4,\n",
        "                recurrent_dropout=0.4,\n",
        "                name='encoder_lstm_1'\n",
        "            ),\n",
        "            name='encoder_bidirectional_lstm_1'\n",
        "        )\n",
        "        encoder_output1, forward_h1, forward_c1, backward_h1, backward_c1 = encoder_bi_lstm1(\n",
        "            encoder_embedding\n",
        "        )\n",
        "        encoder_bi_lstm1_output = [\n",
        "            encoder_output1, forward_h1, forward_c1, backward_h1, backward_c1\n",
        "        ]\n",
        "\n",
        "        # encoder lstm 2\n",
        "        encoder_bi_lstm2 = Bidirectional(\n",
        "            LSTM(\n",
        "                latent_dim,\n",
        "                return_sequences=True,\n",
        "                return_state=True,\n",
        "                dropout=0.4,\n",
        "                recurrent_dropout=0.4,\n",
        "                name='encoder_lstm_2'\n",
        "            ),\n",
        "            name='encoder_bidirectional_lstm_2'\n",
        "        )\n",
        "        encoder_output2, forward_h2, forward_c2, backward_h2, backward_c2 = encoder_bi_lstm2(\n",
        "            encoder_output1\n",
        "        )\n",
        "        encoder_bi_lstm2_output = [\n",
        "            encoder_output2, forward_h2, forward_c2, backward_h2, backward_c2\n",
        "        ]\n",
        "\n",
        "        # encoder lstm 3\n",
        "        encoder_bi_lstm = Bidirectional(\n",
        "            LSTM(\n",
        "                latent_dim,\n",
        "                return_sequences=True,\n",
        "                return_state=True,\n",
        "                dropout=0.4,\n",
        "                recurrent_dropout=0.4,\n",
        "                name='encoder_lstm_3'\n",
        "            ),\n",
        "            name='encoder_bidirectional_lstm_3'\n",
        "        )\n",
        "        encoder_output, *encoder_final_states = encoder_bi_lstm(encoder_output2)\n",
        "\n",
        "        # =====================\n",
        "        # 🌈 Decoder\n",
        "        # =====================\n",
        "\n",
        "        # Set up the decoder, using `encoder_states` as initial state.\n",
        "\n",
        "        decoder_input = Input(shape=(None, ))\n",
        "\n",
        "        # decoder embedding layer\n",
        "        decoder_embedding_layer = Embedding(\n",
        "            y_vocab_size,\n",
        "            embedding_dim,\n",
        "            embeddings_initializer=tf.keras.initializers.Constant(y_embedding_matrix),\n",
        "            trainable=False,\n",
        "            name='decoder_embedding'\n",
        "        )\n",
        "        decoder_embedding = decoder_embedding_layer(decoder_input)\n",
        "\n",
        "        decoder_bi_lstm = Bidirectional(\n",
        "            LSTM(\n",
        "                latent_dim,\n",
        "                return_sequences=True,\n",
        "                return_state=True,\n",
        "                dropout=0.4,\n",
        "                recurrent_dropout=0.2,\n",
        "                name='decoder_lstm_1'\n",
        "            ),\n",
        "            name='decoder_bidirectional_lstm_1'\n",
        "        )\n",
        "        decoder_output, *decoder_final_states = decoder_bi_lstm(\n",
        "            decoder_embedding, initial_state=encoder_final_states\n",
        "            # decoder_embedding, initial_state=encoder_final_states[:2]\n",
        "        )  # taking only the forward states\n",
        "\n",
        "        attn_layer = AttentionLayer(name='attention_layer')\n",
        "        attn_out, attn_states = attn_layer([encoder_output, decoder_output])\n",
        "\n",
        "        # dense layer\n",
        "        decoder_dense = TimeDistributed(\n",
        "            Dense(y_vocab_size, activation='softmax')\n",
        "        )\n",
        "        decoder_output = decoder_dense(decoder_output)\n",
        "\n",
        "        # =====================\n",
        "        # ⚡️ Model\n",
        "        # =====================\n",
        "        model = Model([encoder_input, decoder_input], decoder_output, name='seq2seq_model_with_bidirectional_lstm')\n",
        "        model.summary()\n",
        "\n",
        "        optimizer = tf.keras.optimizers.Adam(learning_rate=0.001)\n",
        "        model.compile(\n",
        "            optimizer=optimizer,\n",
        "            loss='sparse_categorical_crossentropy',\n",
        "            metrics=['accuracy']\n",
        "        )\n",
        "\n",
        "        return {\n",
        "            'model': model,\n",
        "            'inputs': {\n",
        "                'encoder': encoder_input,\n",
        "                'decoder': decoder_input\n",
        "            },\n",
        "            'outputs': {\n",
        "                'encoder': encoder_output,\n",
        "                'decoder': decoder_output\n",
        "            },\n",
        "            'states': {\n",
        "                'encoder': encoder_final_states,\n",
        "                'decoder': decoder_final_states\n",
        "            },\n",
        "            'layers': {\n",
        "                'decoder': {\n",
        "                    'embedding': decoder_embedding_layer,\n",
        "                    'attention': attn_layer,\n",
        "                    'last_decoder_lstm': decoder_bi_lstm,\n",
        "                    'dense': decoder_dense\n",
        "                }\n",
        "            }\n",
        "        }"
      ],
      "metadata": {
        "_uuid": "c399e1b9-2b69-4825-a739-f5c58b006341",
        "_cell_guid": "4e0e8e60-7a31-4929-a109-cd080f9fe0b4",
        "jupyter": {
          "outputs_hidden": false
        },
        "execution": {
          "iopub.status.busy": "2024-02-13T02:43:36.390239Z",
          "iopub.execute_input": "2024-02-13T02:43:36.390630Z",
          "iopub.status.idle": "2024-02-13T02:43:36.407073Z",
          "shell.execute_reply.started": "2024-02-13T02:43:36.390596Z",
          "shell.execute_reply": "2024-02-13T02:43:36.405605Z"
        },
        "trusted": true,
        "id": "i8fXsMIwKP6R"
      },
      "execution_count": null,
      "outputs": []
    },
    {
      "cell_type": "code",
      "source": [
        "seq2seq = build_seq2seq_model_with_bidirectional_lstm(\n",
        "    embedding_dim, latent_dim, max_len_paragraphs,\n",
        "    x_vocab_size, y_vocab_size,\n",
        "    x_embedding_matrix, y_embedding_matrix\n",
        ")"
      ],
      "metadata": {
        "_uuid": "4a880646-9101-4a64-8f33-205108921a5d",
        "_cell_guid": "c63d9c8b-b254-4eb7-af36-eed37ad58c2e",
        "jupyter": {
          "outputs_hidden": false
        },
        "execution": {
          "iopub.status.busy": "2024-02-13T02:43:36.410617Z",
          "iopub.execute_input": "2024-02-13T02:43:36.412325Z",
          "iopub.status.idle": "2024-02-13T02:43:38.394397Z",
          "shell.execute_reply.started": "2024-02-13T02:43:36.412126Z",
          "shell.execute_reply": "2024-02-13T02:43:38.393290Z"
        },
        "trusted": true,
        "id": "E8UhSiETKP6R",
        "colab": {
          "base_uri": "https://localhost:8080/"
        },
        "outputId": "63fa0705-499b-4f7e-a23c-61b81ccfc009"
      },
      "execution_count": null,
      "outputs": [
        {
          "output_type": "stream",
          "name": "stdout",
          "text": [
            "Model: \"seq2seq_model_with_bidirectional_lstm\"\n",
            "__________________________________________________________________________________________________\n",
            " Layer (type)                Output Shape                 Param #   Connected to                  \n",
            "==================================================================================================\n",
            " input_1 (InputLayer)        [(None, 1235)]               0         []                            \n",
            "                                                                                                  \n",
            " encoder_embedding (Embeddi  (None, 1235, 300)            2864430   ['input_1[0][0]']             \n",
            " ng)                                                      0                                       \n",
            "                                                                                                  \n",
            " encoder_bidirectional_lstm  [(None, 1235, 128),          186880    ['encoder_embedding[0][0]']   \n",
            " _1 (Bidirectional)           (None, 64),                                                         \n",
            "                              (None, 64),                                                         \n",
            "                              (None, 64),                                                         \n",
            "                              (None, 64)]                                                         \n",
            "                                                                                                  \n",
            " input_2 (InputLayer)        [(None, None)]               0         []                            \n",
            "                                                                                                  \n",
            " encoder_bidirectional_lstm  [(None, 1235, 128),          98816     ['encoder_bidirectional_lstm_1\n",
            " _2 (Bidirectional)           (None, 64),                           [0][0]']                      \n",
            "                              (None, 64),                                                         \n",
            "                              (None, 64),                                                         \n",
            "                              (None, 64)]                                                         \n",
            "                                                                                                  \n",
            " decoder_embedding (Embeddi  (None, None, 300)            1377570   ['input_2[0][0]']             \n",
            " ng)                                                      0                                       \n",
            "                                                                                                  \n",
            " encoder_bidirectional_lstm  [(None, 1235, 128),          98816     ['encoder_bidirectional_lstm_2\n",
            " _3 (Bidirectional)           (None, 64),                           [0][0]']                      \n",
            "                              (None, 64),                                                         \n",
            "                              (None, 64),                                                         \n",
            "                              (None, 64)]                                                         \n",
            "                                                                                                  \n",
            " decoder_bidirectional_lstm  [(None, None, 128),          186880    ['decoder_embedding[0][0]',   \n",
            " _1 (Bidirectional)           (None, 64),                            'encoder_bidirectional_lstm_3\n",
            "                              (None, 64),                           [0][1]',                      \n",
            "                              (None, 64),                            'encoder_bidirectional_lstm_3\n",
            "                              (None, 64)]                           [0][2]',                      \n",
            "                                                                     'encoder_bidirectional_lstm_3\n",
            "                                                                    [0][3]',                      \n",
            "                                                                     'encoder_bidirectional_lstm_3\n",
            "                                                                    [0][4]']                      \n",
            "                                                                                                  \n",
            " time_distributed (TimeDist  (None, None, 45919)          5923551   ['decoder_bidirectional_lstm_1\n",
            " ributed)                                                           [0][0]']                      \n",
            "                                                                                                  \n",
            "==================================================================================================\n",
            "Total params: 48914943 (186.60 MB)\n",
            "Trainable params: 6494943 (24.78 MB)\n",
            "Non-trainable params: 42420000 (161.82 MB)\n",
            "__________________________________________________________________________________________________\n"
          ]
        }
      ]
    },
    {
      "cell_type": "code",
      "source": [
        "model = seq2seq['model']\n",
        "\n",
        "encoder_input = seq2seq['inputs']['encoder']\n",
        "decoder_input = seq2seq['inputs']['decoder']\n",
        "\n",
        "encoder_output = seq2seq['outputs']['encoder']\n",
        "decoder_output = seq2seq['outputs']['decoder']\n",
        "\n",
        "encoder_final_states = seq2seq['states']['encoder']\n",
        "decoder_final_states = seq2seq['states']['decoder']\n",
        "\n",
        "decoder_embedding_layer = seq2seq['layers']['decoder']['embedding']\n",
        "last_decoder_lstm = seq2seq['layers']['decoder']['last_decoder_lstm']\n",
        "decoder_dense = seq2seq['layers']['decoder']['dense']\n"
      ],
      "metadata": {
        "_uuid": "caf7c3f8-5b56-4b40-8426-e046f9c1a1f9",
        "_cell_guid": "d60c9e12-1f59-46f6-b99d-b1536d8b0485",
        "jupyter": {
          "outputs_hidden": false
        },
        "execution": {
          "iopub.status.busy": "2024-02-13T02:43:38.395805Z",
          "iopub.execute_input": "2024-02-13T02:43:38.396305Z",
          "iopub.status.idle": "2024-02-13T02:43:38.402134Z",
          "shell.execute_reply.started": "2024-02-13T02:43:38.396276Z",
          "shell.execute_reply": "2024-02-13T02:43:38.401234Z"
        },
        "trusted": true,
        "id": "SzjrHHwNKP6R"
      },
      "execution_count": null,
      "outputs": []
    },
    {
      "cell_type": "code",
      "source": [
        "model.layers[-2].input"
      ],
      "metadata": {
        "_uuid": "b5e93579-7c58-4e36-8369-93966b3b1a44",
        "_cell_guid": "1882f49d-d9e4-4dfc-9edb-361e5a33ba12",
        "jupyter": {
          "outputs_hidden": false
        },
        "execution": {
          "iopub.status.busy": "2024-02-13T02:43:38.403314Z",
          "iopub.execute_input": "2024-02-13T02:43:38.403564Z",
          "iopub.status.idle": "2024-02-13T02:43:38.418052Z",
          "shell.execute_reply.started": "2024-02-13T02:43:38.403536Z",
          "shell.execute_reply": "2024-02-13T02:43:38.417007Z"
        },
        "trusted": true,
        "id": "76YbGTT5KP6R",
        "colab": {
          "base_uri": "https://localhost:8080/"
        },
        "outputId": "29f78ee6-2d56-462b-a9b0-37c0da8bb222"
      },
      "execution_count": null,
      "outputs": [
        {
          "output_type": "execute_result",
          "data": {
            "text/plain": [
              "[<KerasTensor: shape=(None, None, 300) dtype=float32 (created by layer 'decoder_embedding')>,\n",
              " <KerasTensor: shape=(None, 64) dtype=float32 (created by layer 'encoder_bidirectional_lstm_3')>,\n",
              " <KerasTensor: shape=(None, 64) dtype=float32 (created by layer 'encoder_bidirectional_lstm_3')>,\n",
              " <KerasTensor: shape=(None, 64) dtype=float32 (created by layer 'encoder_bidirectional_lstm_3')>,\n",
              " <KerasTensor: shape=(None, 64) dtype=float32 (created by layer 'encoder_bidirectional_lstm_3')>]"
            ]
          },
          "metadata": {},
          "execution_count": 61
        }
      ]
    },
    {
      "cell_type": "code",
      "source": [
        "callbacks = [\n",
        "  EarlyStopping(\n",
        "    monitor='accuracy',  # Memantau metrik akurasi pada data validasi\n",
        "    mode='max',               # Mode 'max' karena ingin mendapatkan akurasi maksimum\n",
        "    verbose=1,                # Menampilkan pesan verbose\n",
        "    patience=2,                # Bersabar selama 2 epoch jika akurasi tidak meningkat\n",
        "    baseline=0.95,            # Menentukan baseline akurasi yang diharapkan\n",
        "  ),\n",
        "\n",
        "  # Membuat callback ReduceLROnPlateau seperti yang telah Anda tentukan\n",
        "  ReduceLROnPlateau(\n",
        "    monitor='val_loss',\n",
        "    factor=0.1,\n",
        "    patience=2,\n",
        "    min_lr=0.000001,\n",
        "    verbose=1,\n",
        "  )\n",
        "]"
      ],
      "metadata": {
        "_uuid": "09825d7a-e90f-4878-a24d-4f6d1da2b745",
        "_cell_guid": "e6078a54-ce1f-44bc-9a5f-2c8a4e7436a7",
        "jupyter": {
          "outputs_hidden": false
        },
        "execution": {
          "iopub.status.busy": "2024-02-13T02:43:38.419508Z",
          "iopub.execute_input": "2024-02-13T02:43:38.419817Z",
          "iopub.status.idle": "2024-02-13T02:43:38.428413Z",
          "shell.execute_reply.started": "2024-02-13T02:43:38.419782Z",
          "shell.execute_reply": "2024-02-13T02:43:38.427308Z"
        },
        "trusted": true,
        "id": "aMJpeBwWKP6S"
      },
      "execution_count": null,
      "outputs": []
    },
    {
      "cell_type": "code",
      "source": [
        "history = model.fit(\n",
        "    [x_train_pad, y_train_pad[:, :-1]],\n",
        "    y_train_pad.reshape(y_train_pad.shape[0], y_train_pad.shape[1], 1)[:, 1:],\n",
        "    epochs=num_epochs,\n",
        "    batch_size=128,\n",
        "    #callbacks=[callback],\n",
        "    validation_data=(\n",
        "        [x_val_pad, y_val_pad[:, :-1]],\n",
        "        y_val_pad.reshape(y_val_pad.shape[0], y_val_pad.shape[1], 1)[:, 1:]\n",
        "    )\n",
        ")"
      ],
      "metadata": {
        "_uuid": "32d62713-c940-4579-b983-afb01edc03f5",
        "_cell_guid": "587dc2ac-f80f-4e86-aabd-e0109d5cf78d",
        "jupyter": {
          "outputs_hidden": false
        },
        "execution": {
          "iopub.status.busy": "2024-02-13T02:43:38.429851Z",
          "iopub.execute_input": "2024-02-13T02:43:38.430258Z",
          "iopub.status.idle": "2024-02-13T06:22:33.272155Z",
          "shell.execute_reply.started": "2024-02-13T02:43:38.430216Z",
          "shell.execute_reply": "2024-02-13T06:22:33.267213Z"
        },
        "trusted": true,
        "id": "GTMaMYz_KP6S",
        "colab": {
          "base_uri": "https://localhost:8080/"
        },
        "outputId": "d344cd85-2940-4043-b1aa-65dd230de154"
      },
      "execution_count": null,
      "outputs": [
        {
          "output_type": "stream",
          "name": "stdout",
          "text": [
            "Epoch 1/40\n",
            "112/112 [==============================] - 259s 2s/step - loss: 6.9727 - accuracy: 0.3418 - val_loss: 5.0598 - val_accuracy: 0.3882\n",
            "Epoch 2/40\n",
            "112/112 [==============================] - 169s 2s/step - loss: 5.0535 - accuracy: 0.3774 - val_loss: 4.5164 - val_accuracy: 0.4146\n",
            "Epoch 3/40\n",
            "112/112 [==============================] - 169s 2s/step - loss: 4.5123 - accuracy: 0.4160 - val_loss: 3.9786 - val_accuracy: 0.4630\n",
            "Epoch 4/40\n",
            "112/112 [==============================] - 169s 2s/step - loss: 4.0278 - accuracy: 0.4622 - val_loss: 3.5385 - val_accuracy: 0.5112\n",
            "Epoch 5/40\n",
            "112/112 [==============================] - 169s 2s/step - loss: 3.6415 - accuracy: 0.5030 - val_loss: 3.1866 - val_accuracy: 0.5518\n",
            "Epoch 6/40\n",
            "112/112 [==============================] - 169s 2s/step - loss: 3.3311 - accuracy: 0.5366 - val_loss: 2.9007 - val_accuracy: 0.5862\n",
            "Epoch 7/40\n",
            "112/112 [==============================] - 169s 2s/step - loss: 3.0733 - accuracy: 0.5646 - val_loss: 2.6567 - val_accuracy: 0.6164\n",
            "Epoch 8/40\n",
            "112/112 [==============================] - 169s 2s/step - loss: 2.8532 - accuracy: 0.5888 - val_loss: 2.4472 - val_accuracy: 0.6427\n",
            "Epoch 9/40\n",
            "112/112 [==============================] - 169s 2s/step - loss: 2.6626 - accuracy: 0.6101 - val_loss: 2.2686 - val_accuracy: 0.6652\n",
            "Epoch 10/40\n",
            "112/112 [==============================] - 169s 2s/step - loss: 2.4967 - accuracy: 0.6289 - val_loss: 2.1124 - val_accuracy: 0.6858\n",
            "Epoch 11/40\n",
            "112/112 [==============================] - 169s 2s/step - loss: 2.3483 - accuracy: 0.6462 - val_loss: 1.9734 - val_accuracy: 0.7049\n",
            "Epoch 12/40\n",
            "112/112 [==============================] - 169s 2s/step - loss: 2.2131 - accuracy: 0.6623 - val_loss: 1.8494 - val_accuracy: 0.7223\n",
            "Epoch 13/40\n",
            "112/112 [==============================] - 168s 2s/step - loss: 2.0922 - accuracy: 0.6768 - val_loss: 1.7411 - val_accuracy: 0.7373\n",
            "Epoch 14/40\n",
            "112/112 [==============================] - 168s 2s/step - loss: 1.9828 - accuracy: 0.6900 - val_loss: 1.6445 - val_accuracy: 0.7511\n",
            "Epoch 15/40\n",
            "112/112 [==============================] - 168s 2s/step - loss: 1.8823 - accuracy: 0.7026 - val_loss: 1.5593 - val_accuracy: 0.7632\n",
            "Epoch 16/40\n",
            "112/112 [==============================] - 168s 2s/step - loss: 1.7911 - accuracy: 0.7137 - val_loss: 1.4815 - val_accuracy: 0.7743\n",
            "Epoch 17/40\n",
            "112/112 [==============================] - 168s 2s/step - loss: 1.7072 - accuracy: 0.7240 - val_loss: 1.4139 - val_accuracy: 0.7843\n",
            "Epoch 18/40\n",
            "112/112 [==============================] - 168s 2s/step - loss: 1.6297 - accuracy: 0.7338 - val_loss: 1.3515 - val_accuracy: 0.7928\n",
            "Epoch 19/40\n",
            "112/112 [==============================] - 168s 2s/step - loss: 1.5576 - accuracy: 0.7429 - val_loss: 1.2944 - val_accuracy: 0.8012\n",
            "Epoch 20/40\n",
            "112/112 [==============================] - 169s 2s/step - loss: 1.4923 - accuracy: 0.7509 - val_loss: 1.2432 - val_accuracy: 0.8087\n",
            "Epoch 21/40\n",
            "112/112 [==============================] - 168s 2s/step - loss: 1.4301 - accuracy: 0.7591 - val_loss: 1.1968 - val_accuracy: 0.8156\n",
            "Epoch 22/40\n",
            "112/112 [==============================] - 168s 2s/step - loss: 1.3735 - accuracy: 0.7658 - val_loss: 1.1544 - val_accuracy: 0.8209\n",
            "Epoch 23/40\n",
            "112/112 [==============================] - 168s 2s/step - loss: 1.3193 - accuracy: 0.7726 - val_loss: 1.1153 - val_accuracy: 0.8268\n",
            "Epoch 24/40\n",
            "112/112 [==============================] - 168s 2s/step - loss: 1.2689 - accuracy: 0.7793 - val_loss: 1.0787 - val_accuracy: 0.8324\n",
            "Epoch 25/40\n",
            "112/112 [==============================] - 168s 2s/step - loss: 1.2227 - accuracy: 0.7856 - val_loss: 1.0444 - val_accuracy: 0.8376\n",
            "Epoch 26/40\n",
            "112/112 [==============================] - 168s 2s/step - loss: 1.1770 - accuracy: 0.7916 - val_loss: 1.0158 - val_accuracy: 0.8416\n",
            "Epoch 27/40\n",
            "112/112 [==============================] - 168s 2s/step - loss: 1.1351 - accuracy: 0.7975 - val_loss: 0.9868 - val_accuracy: 0.8462\n",
            "Epoch 28/40\n",
            "112/112 [==============================] - 168s 2s/step - loss: 1.0959 - accuracy: 0.8030 - val_loss: 0.9597 - val_accuracy: 0.8501\n",
            "Epoch 29/40\n",
            "112/112 [==============================] - 168s 2s/step - loss: 1.0592 - accuracy: 0.8084 - val_loss: 0.9369 - val_accuracy: 0.8534\n",
            "Epoch 30/40\n",
            "112/112 [==============================] - 169s 2s/step - loss: 1.0233 - accuracy: 0.8142 - val_loss: 0.9145 - val_accuracy: 0.8568\n",
            "Epoch 31/40\n",
            "112/112 [==============================] - 169s 2s/step - loss: 0.9907 - accuracy: 0.8194 - val_loss: 0.8918 - val_accuracy: 0.8604\n",
            "Epoch 32/40\n",
            "112/112 [==============================] - 168s 2s/step - loss: 0.9591 - accuracy: 0.8243 - val_loss: 0.8741 - val_accuracy: 0.8629\n",
            "Epoch 33/40\n",
            "112/112 [==============================] - 169s 2s/step - loss: 0.9291 - accuracy: 0.8296 - val_loss: 0.8543 - val_accuracy: 0.8662\n",
            "Epoch 34/40\n",
            "112/112 [==============================] - 168s 2s/step - loss: 0.9004 - accuracy: 0.8348 - val_loss: 0.8375 - val_accuracy: 0.8688\n",
            "Epoch 35/40\n",
            "112/112 [==============================] - 168s 2s/step - loss: 0.8728 - accuracy: 0.8395 - val_loss: 0.8204 - val_accuracy: 0.8711\n",
            "Epoch 36/40\n",
            "112/112 [==============================] - 168s 2s/step - loss: 0.8473 - accuracy: 0.8442 - val_loss: 0.8065 - val_accuracy: 0.8735\n",
            "Epoch 37/40\n",
            "112/112 [==============================] - 168s 2s/step - loss: 0.8232 - accuracy: 0.8484 - val_loss: 0.7921 - val_accuracy: 0.8758\n",
            "Epoch 38/40\n",
            "112/112 [==============================] - 168s 2s/step - loss: 0.8000 - accuracy: 0.8525 - val_loss: 0.7788 - val_accuracy: 0.8780\n",
            "Epoch 39/40\n",
            "112/112 [==============================] - 168s 2s/step - loss: 0.7781 - accuracy: 0.8565 - val_loss: 0.7663 - val_accuracy: 0.8800\n",
            "Epoch 40/40\n",
            "112/112 [==============================] - 168s 2s/step - loss: 0.7568 - accuracy: 0.8605 - val_loss: 0.7534 - val_accuracy: 0.8819\n"
          ]
        }
      ]
    },
    {
      "cell_type": "markdown",
      "source": [
        "notes:\n",
        "1. layer 128, overfit\n",
        "2. layer 64, harus banyak epoch\n",
        "3. lesgoo"
      ],
      "metadata": {
        "id": "MHUvDHWKoiZg"
      }
    },
    {
      "cell_type": "code",
      "source": [
        "# Accuracy\n",
        "plt.plot(history.history['accuracy'][1:], label='train acc')\n",
        "plt.plot(history.history['val_accuracy'], label='val')\n",
        "plt.xlabel('Epoch')\n",
        "plt.ylabel('Accuracy')\n",
        "plt.legend(loc='lower right')"
      ],
      "metadata": {
        "_uuid": "1546d7de-b54c-4895-bf5a-84006fc1c726",
        "_cell_guid": "f90e35f5-a658-47f9-9a13-4bc70f1eb1bf",
        "execution": {
          "iopub.status.busy": "2024-02-13T06:26:04.081832Z",
          "iopub.execute_input": "2024-02-13T06:26:04.082414Z",
          "iopub.status.idle": "2024-02-13T06:26:04.419899Z",
          "shell.execute_reply.started": "2024-02-13T06:26:04.082333Z",
          "shell.execute_reply": "2024-02-13T06:26:04.418821Z"
        },
        "trusted": true,
        "id": "FWVQQ4-vKP6S",
        "colab": {
          "base_uri": "https://localhost:8080/",
          "height": 467
        },
        "outputId": "ee865ced-d6c9-417e-e4a2-3e79782fe335"
      },
      "execution_count": null,
      "outputs": [
        {
          "output_type": "execute_result",
          "data": {
            "text/plain": [
              "<matplotlib.legend.Legend at 0x7b8ed41ce500>"
            ]
          },
          "metadata": {},
          "execution_count": 64
        },
        {
          "output_type": "display_data",
          "data": {
            "text/plain": [
              "<Figure size 640x480 with 1 Axes>"
            ],
            "image/png": "[encoded data removed]"
          },
          "metadata": {}
        }
      ]
    },
    {
      "cell_type": "code",
      "source": [
        "# Loss\n",
        "plt.plot(history.history['loss'][1:], label='train loss')\n",
        "plt.plot(history.history['val_loss'], label='val')\n",
        "plt.xlabel('Epoch')\n",
        "plt.ylabel('Loss')\n",
        "plt.legend(loc='lower right')"
      ],
      "metadata": {
        "_uuid": "5e754a13-9776-426e-aa69-634721f78c3c",
        "_cell_guid": "47a6be83-cc04-47b4-be5b-077f7f7ee6d2",
        "execution": {
          "iopub.status.busy": "2024-02-13T06:26:09.053037Z",
          "iopub.execute_input": "2024-02-13T06:26:09.056339Z",
          "iopub.status.idle": "2024-02-13T06:26:09.316890Z",
          "shell.execute_reply.started": "2024-02-13T06:26:09.056200Z",
          "shell.execute_reply": "2024-02-13T06:26:09.316023Z"
        },
        "trusted": true,
        "id": "mJTjNFAHKP6S",
        "colab": {
          "base_uri": "https://localhost:8080/",
          "height": 466
        },
        "outputId": "d884326c-f2f2-4d9a-fcab-37636204c32f"
      },
      "execution_count": null,
      "outputs": [
        {
          "output_type": "execute_result",
          "data": {
            "text/plain": [
              "<matplotlib.legend.Legend at 0x7b8c5debb5e0>"
            ]
          },
          "metadata": {},
          "execution_count": 65
        },
        {
          "output_type": "display_data",
          "data": {
            "text/plain": [
              "<Figure size 640x480 with 1 Axes>"
            ],
            "image/png": "[encoded data removed]"
          },
          "metadata": {}
        }
      ]
    },
    {
      "cell_type": "code",
      "source": [
        "# Next, let’s build the dictionary to convert the index to word for target and source vocabulary:\n",
        "reverse_target_word_index = y_tokenizer.index_word\n",
        "reverse_source_word_index = x_tokenizer.index_word\n",
        "target_word_index = y_tokenizer.word_index"
      ],
      "metadata": {
        "_uuid": "3f72e4b1-4b48-40e0-a26a-0dc67fd942ce",
        "_cell_guid": "fd5d7642-6b48-4a6d-800c-c2d64c4a4c51",
        "jupyter": {
          "outputs_hidden": false
        },
        "execution": {
          "iopub.status.busy": "2024-02-13T06:26:11.842178Z",
          "iopub.execute_input": "2024-02-13T06:26:11.842668Z",
          "iopub.status.idle": "2024-02-13T06:26:11.849484Z",
          "shell.execute_reply.started": "2024-02-13T06:26:11.842630Z",
          "shell.execute_reply": "2024-02-13T06:26:11.847885Z"
        },
        "trusted": true,
        "id": "Qgko62L_KP6S"
      },
      "execution_count": null,
      "outputs": []
    },
    {
      "cell_type": "code",
      "source": [
        "def build_seq2seq_model_with_bidirectional_lstm_inference(\n",
        "    max_len_paragraphs, latent_dim, encoder_input, encoder_output,\n",
        "    encoder_final_states, decoder_input, decoder_output,\n",
        "    decoder_embedding_layer, decoder_dense, last_decoder_bi_lstm\n",
        "):\n",
        "    # Encode the input sequence to get the feature vector\n",
        "    encoder_model = Model(\n",
        "        inputs=encoder_input, outputs=[encoder_output] + encoder_final_states\n",
        "    )\n",
        "\n",
        "    # Decoder setup\n",
        "    # Below tensors will hold the states of the previous time step\n",
        "    decoder_state_forward_input_h = Input(shape=(latent_dim, ))\n",
        "    decoder_state_forward_input_c = Input(shape=(latent_dim, ))\n",
        "    decoder_state_backward_input_h = Input(shape=(latent_dim, ))\n",
        "    decoder_state_backward_input_c = Input(shape=(latent_dim, ))\n",
        "\n",
        "    # Create the hidden input layer with twice the latent dimension,\n",
        "    # since we are using bi - directional LSTM's we will get\n",
        "    # two hidden states and two cell states\n",
        "    decoder_hidden_state_input = Input(shape=(max_len_paragraphs, latent_dim * 2))\n",
        "\n",
        "    decoder_initial_state = [\n",
        "        decoder_state_forward_input_h, decoder_state_forward_input_c,\n",
        "        decoder_state_backward_input_h, decoder_state_backward_input_c\n",
        "    ]\n",
        "\n",
        "    # Get the embeddings of the decoder sequence\n",
        "    decoder_embedding = decoder_embedding_layer(decoder_input)\n",
        "\n",
        "    # To predict the next word in the sequence, set the initial\n",
        "    # states to the states from the previous time step\n",
        "    decoder_output, *decoder_states = last_decoder_bi_lstm(\n",
        "        decoder_embedding, initial_state=decoder_initial_state\n",
        "    )\n",
        "\n",
        "    # A dense softmax layer to generate prob dist. over the target vocabulary\n",
        "    decoder_output = decoder_dense(decoder_output)\n",
        "\n",
        "    # Final decoder model\n",
        "    decoder_model = Model(\n",
        "        [decoder_input] + [decoder_hidden_state_input] + decoder_initial_state,\n",
        "        [decoder_output] + decoder_states\n",
        "    )\n",
        "\n",
        "    return (encoder_model, decoder_model)"
      ],
      "metadata": {
        "_uuid": "be696b39-d511-473a-bc9d-efd70abea64f",
        "_cell_guid": "26e42266-d62b-4234-bc44-4796a3ab19cb",
        "jupyter": {
          "outputs_hidden": false
        },
        "execution": {
          "iopub.status.busy": "2024-02-13T06:26:12.050846Z",
          "iopub.execute_input": "2024-02-13T06:26:12.052273Z",
          "iopub.status.idle": "2024-02-13T06:26:12.063596Z",
          "shell.execute_reply.started": "2024-02-13T06:26:12.052210Z",
          "shell.execute_reply": "2024-02-13T06:26:12.062590Z"
        },
        "trusted": true,
        "id": "0D3nrXYdKP6T"
      },
      "execution_count": null,
      "outputs": []
    },
    {
      "cell_type": "code",
      "source": [
        "encoder_model, decoder_model = build_seq2seq_model_with_bidirectional_lstm_inference(\n",
        "    max_len_paragraphs, latent_dim, encoder_input, encoder_output,\n",
        "    encoder_final_states, decoder_input, decoder_output,\n",
        "    decoder_embedding_layer, decoder_dense, last_decoder_lstm\n",
        ")"
      ],
      "metadata": {
        "_uuid": "314e7e61-5c01-447b-b617-42ca1bf68c75",
        "_cell_guid": "0f22903a-07c0-4248-b709-280e959e5b6e",
        "jupyter": {
          "outputs_hidden": false
        },
        "execution": {
          "iopub.status.busy": "2024-02-13T06:26:13.518861Z",
          "iopub.execute_input": "2024-02-13T06:26:13.519240Z",
          "iopub.status.idle": "2024-02-13T06:26:13.895443Z",
          "shell.execute_reply.started": "2024-02-13T06:26:13.519209Z",
          "shell.execute_reply": "2024-02-13T06:26:13.894364Z"
        },
        "trusted": true,
        "id": "wYgxBg1wKP6T"
      },
      "execution_count": null,
      "outputs": []
    },
    {
      "cell_type": "code",
      "source": [
        "encoder_model.summary()"
      ],
      "metadata": {
        "_uuid": "8599a2eb-d8b8-4a7e-856e-b5e19d1a87ca",
        "_cell_guid": "0e09430a-e01c-4fe2-b052-3f17d5b7530c",
        "execution": {
          "iopub.status.busy": "2024-02-13T06:26:16.672561Z",
          "iopub.execute_input": "2024-02-13T06:26:16.672909Z",
          "iopub.status.idle": "2024-02-13T06:26:16.712152Z",
          "shell.execute_reply.started": "2024-02-13T06:26:16.672884Z",
          "shell.execute_reply": "2024-02-13T06:26:16.711129Z"
        },
        "trusted": true,
        "id": "yQxzDUYFKP6T",
        "colab": {
          "base_uri": "https://localhost:8080/"
        },
        "outputId": "82859fa3-416f-49d4-8f13-166ef61581e7"
      },
      "execution_count": null,
      "outputs": [
        {
          "output_type": "stream",
          "name": "stdout",
          "text": [
            "Model: \"model\"\n",
            "_________________________________________________________________\n",
            " Layer (type)                Output Shape              Param #   \n",
            "=================================================================\n",
            " input_1 (InputLayer)        [(None, 1235)]            0         \n",
            "                                                                 \n",
            " encoder_embedding (Embeddi  (None, 1235, 300)         28644300  \n",
            " ng)                                                             \n",
            "                                                                 \n",
            " encoder_bidirectional_lstm  [(None, 1235, 128),       186880    \n",
            " _1 (Bidirectional)           (None, 64),                        \n",
            "                              (None, 64),                        \n",
            "                              (None, 64),                        \n",
            "                              (None, 64)]                        \n",
            "                                                                 \n",
            " encoder_bidirectional_lstm  [(None, 1235, 128),       98816     \n",
            " _2 (Bidirectional)           (None, 64),                        \n",
            "                              (None, 64),                        \n",
            "                              (None, 64),                        \n",
            "                              (None, 64)]                        \n",
            "                                                                 \n",
            " encoder_bidirectional_lstm  [(None, 1235, 128),       98816     \n",
            " _3 (Bidirectional)           (None, 64),                        \n",
            "                              (None, 64),                        \n",
            "                              (None, 64),                        \n",
            "                              (None, 64)]                        \n",
            "                                                                 \n",
            "=================================================================\n",
            "Total params: 29028812 (110.74 MB)\n",
            "Trainable params: 384512 (1.47 MB)\n",
            "Non-trainable params: 28644300 (109.27 MB)\n",
            "_________________________________________________________________\n"
          ]
        }
      ]
    },
    {
      "cell_type": "code",
      "source": [
        "decoder_model.summary()"
      ],
      "metadata": {
        "_uuid": "b42df0bf-a39f-4750-afc3-f0c907fa63c2",
        "_cell_guid": "3e4aa8bc-dafa-4db4-89dc-5a4cf311753c",
        "jupyter": {
          "outputs_hidden": false
        },
        "execution": {
          "iopub.status.busy": "2024-02-13T06:26:17.057318Z",
          "iopub.execute_input": "2024-02-13T06:26:17.057692Z",
          "iopub.status.idle": "2024-02-13T06:26:17.098998Z",
          "shell.execute_reply.started": "2024-02-13T06:26:17.057664Z",
          "shell.execute_reply": "2024-02-13T06:26:17.097439Z"
        },
        "trusted": true,
        "id": "CuyJa8o1KP6T",
        "colab": {
          "base_uri": "https://localhost:8080/"
        },
        "outputId": "217311a2-7919-43d3-b0c7-7b52c10c0189"
      },
      "execution_count": null,
      "outputs": [
        {
          "output_type": "stream",
          "name": "stdout",
          "text": [
            "Model: \"model_1\"\n",
            "__________________________________________________________________________________________________\n",
            " Layer (type)                Output Shape                 Param #   Connected to                  \n",
            "==================================================================================================\n",
            " input_2 (InputLayer)        [(None, None)]               0         []                            \n",
            "                                                                                                  \n",
            " decoder_embedding (Embeddi  (None, None, 300)            1377570   ['input_2[0][0]']             \n",
            " ng)                                                      0                                       \n",
            "                                                                                                  \n",
            " input_3 (InputLayer)        [(None, 64)]                 0         []                            \n",
            "                                                                                                  \n",
            " input_4 (InputLayer)        [(None, 64)]                 0         []                            \n",
            "                                                                                                  \n",
            " input_5 (InputLayer)        [(None, 64)]                 0         []                            \n",
            "                                                                                                  \n",
            " input_6 (InputLayer)        [(None, 64)]                 0         []                            \n",
            "                                                                                                  \n",
            " decoder_bidirectional_lstm  [(None, None, 128),          186880    ['decoder_embedding[1][0]',   \n",
            " _1 (Bidirectional)           (None, 64),                            'input_3[0][0]',             \n",
            "                              (None, 64),                            'input_4[0][0]',             \n",
            "                              (None, 64),                            'input_5[0][0]',             \n",
            "                              (None, 64)]                            'input_6[0][0]']             \n",
            "                                                                                                  \n",
            " input_7 (InputLayer)        [(None, 1235, 128)]          0         []                            \n",
            "                                                                                                  \n",
            " time_distributed (TimeDist  (None, None, 45919)          5923551   ['decoder_bidirectional_lstm_1\n",
            " ributed)                                                           [1][0]']                      \n",
            "                                                                                                  \n",
            "==================================================================================================\n",
            "Total params: 19886131 (75.86 MB)\n",
            "Trainable params: 6110431 (23.31 MB)\n",
            "Non-trainable params: 13775700 (52.55 MB)\n",
            "__________________________________________________________________________________________________\n"
          ]
        }
      ]
    },
    {
      "cell_type": "code",
      "source": [
        "decoder_model.layers[-3].input"
      ],
      "metadata": {
        "_uuid": "ef0ca55e-4ac5-4caf-80a2-ae40c06367d6",
        "_cell_guid": "c373df23-95aa-4d05-8206-60b61cd780e7",
        "jupyter": {
          "outputs_hidden": false
        },
        "execution": {
          "iopub.status.busy": "2024-02-13T06:26:17.858267Z",
          "iopub.execute_input": "2024-02-13T06:26:17.858625Z",
          "iopub.status.idle": "2024-02-13T06:26:17.865464Z",
          "shell.execute_reply.started": "2024-02-13T06:26:17.858602Z",
          "shell.execute_reply": "2024-02-13T06:26:17.864380Z"
        },
        "trusted": true,
        "id": "iEkOmtHxKP6T",
        "colab": {
          "base_uri": "https://localhost:8080/"
        },
        "outputId": "c4806baf-9369-40a1-c0f8-3790b85c1565"
      },
      "execution_count": null,
      "outputs": [
        {
          "output_type": "execute_result",
          "data": {
            "text/plain": [
              "[<KerasTensor: shape=(None, None, 300) dtype=float32 (created by layer 'decoder_embedding')>,\n",
              " <KerasTensor: shape=(None, 64) dtype=float32 (created by layer 'encoder_bidirectional_lstm_3')>,\n",
              " <KerasTensor: shape=(None, 64) dtype=float32 (created by layer 'encoder_bidirectional_lstm_3')>,\n",
              " <KerasTensor: shape=(None, 64) dtype=float32 (created by layer 'encoder_bidirectional_lstm_3')>,\n",
              " <KerasTensor: shape=(None, 64) dtype=float32 (created by layer 'encoder_bidirectional_lstm_3')>]"
            ]
          },
          "metadata": {},
          "execution_count": 71
        }
      ]
    },
    {
      "cell_type": "code",
      "source": [
        "def decode_sequence_seq2seq_model_with_bidirectional_lstm(\n",
        "    input_sequence, encoder_model, decoder_model\n",
        "):\n",
        "    # Encode the input as state vectors.\n",
        "    e_out, *state_values = encoder_model.predict(input_sequence)\n",
        "\n",
        "    # Generate empty target sequence of length 1.\n",
        "    target_seq = np.zeros((1, 1))\n",
        "\n",
        "    # Populate the first word of target sequence with the start word.\n",
        "    target_seq[0, 0] = target_word_index[start_token]\n",
        "\n",
        "    stop_condition = False\n",
        "    decoded_sentence = ''\n",
        "\n",
        "    while not stop_condition:\n",
        "        output_tokens, *decoder_states = decoder_model.predict(\n",
        "            [target_seq] + [e_out] + state_values\n",
        "        )\n",
        "\n",
        "        # Sample a token\n",
        "        sampled_token_index = np.argmax(output_tokens[0, -1, :]) # Greedy Search\n",
        "        sampled_token = reverse_target_word_index[sampled_token_index + 1]\n",
        "\n",
        "        if sampled_token != end_token:\n",
        "            decoded_sentence += ' ' + sampled_token\n",
        "\n",
        "        # Exit condition: either hit max length or find stop word.\n",
        "        if (sampled_token == end_token) or (len(decoded_sentence.split()) >= (max_len_summary - 1)):\n",
        "            stop_condition = True\n",
        "\n",
        "        # Update the target sequence (of length 1).\n",
        "        target_seq = np.zeros((1, 1))\n",
        "        target_seq[0, 0] = sampled_token_index\n",
        "\n",
        "        # Update internal states\n",
        "        state_values = decoder_states\n",
        "\n",
        "    return decoded_sentence"
      ],
      "metadata": {
        "_uuid": "e2bc1c88-d383-4464-a88b-b5e7a7ef361a",
        "_cell_guid": "26701609-8981-41d8-9611-c42d8e1f1241",
        "jupyter": {
          "outputs_hidden": false
        },
        "execution": {
          "iopub.status.busy": "2024-02-13T06:26:18.929463Z",
          "iopub.execute_input": "2024-02-13T06:26:18.929841Z",
          "iopub.status.idle": "2024-02-13T06:26:18.939455Z",
          "shell.execute_reply.started": "2024-02-13T06:26:18.929813Z",
          "shell.execute_reply": "2024-02-13T06:26:18.938479Z"
        },
        "trusted": true,
        "id": "Yh7sm4BcKP6T"
      },
      "execution_count": null,
      "outputs": []
    },
    {
      "cell_type": "code",
      "source": [
        "def seq2summary(input_sequence):\n",
        "    new_string = ''\n",
        "    for i in input_sequence:\n",
        "        if i != 0:  # Assuming 0 is not part of your actual vocabulary\n",
        "            new_string = new_string + reverse_target_word_index[i] + ' '\n",
        "    return new_string"
      ],
      "metadata": {
        "_uuid": "6806ced2-ac1b-4958-add9-f3122961f958",
        "_cell_guid": "f277074d-b6ad-448b-8426-9927c287d254",
        "jupyter": {
          "outputs_hidden": false
        },
        "execution": {
          "iopub.status.busy": "2024-02-13T06:26:37.819639Z",
          "iopub.execute_input": "2024-02-13T06:26:37.820041Z",
          "iopub.status.idle": "2024-02-13T06:26:37.826806Z",
          "shell.execute_reply.started": "2024-02-13T06:26:37.820009Z",
          "shell.execute_reply": "2024-02-13T06:26:37.825219Z"
        },
        "trusted": true,
        "id": "-1aUwA69KP6T"
      },
      "execution_count": null,
      "outputs": []
    },
    {
      "cell_type": "code",
      "source": [
        "def seq2text(input_sequence):\n",
        "    new_string = ''\n",
        "    for i in input_sequence:\n",
        "        if i != 0:\n",
        "            new_string = new_string + reverse_source_word_index[i] + ' '\n",
        "    return new_string"
      ],
      "metadata": {
        "_uuid": "35f106b0-e3e1-4959-9ad1-5b0ba2c2229e",
        "_cell_guid": "89ac7edb-4a17-4d64-bfd4-ee4e743252c5",
        "jupyter": {
          "outputs_hidden": false
        },
        "execution": {
          "iopub.status.busy": "2024-02-13T06:26:37.829128Z",
          "iopub.execute_input": "2024-02-13T06:26:37.829488Z",
          "iopub.status.idle": "2024-02-13T06:26:37.839092Z",
          "shell.execute_reply.started": "2024-02-13T06:26:37.829458Z",
          "shell.execute_reply": "2024-02-13T06:26:37.838042Z"
        },
        "trusted": true,
        "id": "YLi-XOASKP6T"
      },
      "execution_count": null,
      "outputs": []
    },
    {
      "cell_type": "code",
      "source": [
        "l = [1, 2, 3, 4, 5, 6, 7, 8, 9, 10]\n",
        "\n",
        "if len(l) % 3 != 0:\n",
        "    while len(l) % 3 != 0:\n",
        "        l.append(0)\n",
        "print(l)\n",
        "\n",
        "lst_i = 3\n",
        "for i in range(0, len(l), 3):\n",
        "    print(l[i:i + lst_i])\n",
        "\n",
        "print(' '.join(['', 'james', 'ethan', '', 'tony']))\n",
        "print(' '.join(' '.join(['', 'james', 'ethan', '', 'tony']).split()))"
      ],
      "metadata": {
        "_uuid": "3acdba5a-841f-41ba-a4df-1769d5424b13",
        "_cell_guid": "e56002f5-24c4-4eaa-b6da-480c0e8aefe7",
        "execution": {
          "iopub.status.busy": "2024-02-12T08:52:15.648235Z",
          "iopub.execute_input": "2024-02-12T08:52:15.648972Z",
          "iopub.status.idle": "2024-02-12T08:52:15.659686Z",
          "shell.execute_reply.started": "2024-02-12T08:52:15.648912Z",
          "shell.execute_reply": "2024-02-12T08:52:15.658160Z"
        },
        "jupyter": {
          "source_hidden": true
        },
        "trusted": true,
        "id": "AjemvVX7KP6U",
        "colab": {
          "base_uri": "https://localhost:8080/"
        },
        "outputId": "a1af0fc3-729a-4d97-e192-30929e6cb49d"
      },
      "execution_count": null,
      "outputs": [
        {
          "output_type": "stream",
          "name": "stdout",
          "text": [
            "[1, 2, 3, 4, 5, 6, 7, 8, 9, 10, 0, 0]\n",
            "[1, 2, 3]\n",
            "[4, 5, 6]\n",
            "[7, 8, 9]\n",
            "[10, 0, 0]\n",
            " james ethan  tony\n",
            "james ethan tony\n"
          ]
        }
      ]
    },
    {
      "cell_type": "code",
      "source": [
        "def predict_text(text, decode_sequence, encoder_model, decoder_model):\n",
        "    original_text = text\n",
        "    text = preprocess_text([text])  # generator\n",
        "    text_list = original_text.split()\n",
        "\n",
        "    if len(text_list) <= max_len_paragraphs:\n",
        "        #text = expand_contractions(text)\n",
        "        text = preprocess_text(text)\n",
        "        #text = f'_START_ {text} _END_'\n",
        "        text = f'{start_token} {text} {end_token}'\n",
        "\n",
        "        seq = x_tokenizer.texts_to_sequences([' '.join(text_list)])\n",
        "        padded = pad_sequences(seq, maxlen=max_len_paragraphs, padding='post')\n",
        "        pred_summary = decode_sequence(\n",
        "            padded.reshape(1, max_len_paragraphs), encoder_model, decoder_model\n",
        "        )\n",
        "        return pred_summary\n",
        "    else:\n",
        "        pred_summary = ''\n",
        "\n",
        "        # breaking long texts to individual max_len_paragraphs texts and predicting on them\n",
        "        while len(text_list) % max_len_paragraphs== 0:\n",
        "            text_list.append('')\n",
        "\n",
        "        lst_i = max_len_paragraphs\n",
        "        for i in range(0, len(text_list), max_len_paragraphs):\n",
        "            _text_list = original_text.split()[i:i + lst_i]\n",
        "            _text = ' '.join(_text_list)\n",
        "            _text = ' '.join(\n",
        "                _text.split()\n",
        "            )  # to remove spaces that were added to make len(text_list) % max_len_paragraphs == 0\n",
        "\n",
        "            #_text = expand_contractions(_text)\n",
        "            _text = preprocess_text(_text)  # generator\n",
        "            _text = f'_START_ {_text} _END_'\n",
        "            _text = f'{start_token} {_text} {end_token}'\n",
        "            # print(_text, '\\n')\n",
        "\n",
        "            _seq = x_tokenizer.texts_to_sequences([_text])\n",
        "            _padded = pad_sequences(_seq, maxlen=max_len_paragraphs, padding='post')\n",
        "            _pred = decode_sequence(\n",
        "                _padded.reshape(1, max_len_paragraphs), encoder_model, decoder_model\n",
        "            )\n",
        "            pred_summary += ' ' + ' '.join(_pred.split()[1:-2])\n",
        "            pred_summary = ' '.join(pred_summary.split())\n",
        "\n",
        "        return pred_summary"
      ],
      "metadata": {
        "_uuid": "37a9ab38-6f22-4aa9-b7bd-940d7d9507e4",
        "_cell_guid": "fb65488b-aa8d-474f-ba74-bdd4344d995e",
        "jupyter": {
          "outputs_hidden": false
        },
        "execution": {
          "iopub.status.busy": "2024-02-13T06:26:41.063841Z",
          "iopub.execute_input": "2024-02-13T06:26:41.064215Z",
          "iopub.status.idle": "2024-02-13T06:26:41.073006Z",
          "shell.execute_reply.started": "2024-02-13T06:26:41.064188Z",
          "shell.execute_reply": "2024-02-13T06:26:41.072357Z"
        },
        "trusted": true,
        "id": "45PMB2mEKP6U"
      },
      "execution_count": null,
      "outputs": []
    },
    {
      "cell_type": "code",
      "source": [
        "# Testing on training data\n",
        "for i in range(2, 3):\n",
        "    print(f\"# {i+1} News: \", seq2text(x_train_pad[i]))\n",
        "    print(\"Original summary: \", seq2summary(y_train_pad[i]))\n",
        "    print(\n",
        "        \"Predicted summary: \",\n",
        "        decode_sequence_seq2seq_model_with_bidirectional_lstm(\n",
        "            x_train_pad[i].reshape(1, max_len_paragraphs), encoder_model,\n",
        "            decoder_model\n",
        "        )\n",
        "    )\n",
        "    print()"
      ],
      "metadata": {
        "_uuid": "0058fd91-eeee-4763-8df6-6553978705a9",
        "_cell_guid": "38eddae3-1b32-44cc-adfc-ed055a0281e2",
        "jupyter": {
          "outputs_hidden": false
        },
        "execution": {
          "iopub.status.busy": "2024-02-13T06:26:41.074145Z",
          "iopub.execute_input": "2024-02-13T06:26:41.074737Z",
          "iopub.status.idle": "2024-02-13T06:26:48.744708Z",
          "shell.execute_reply.started": "2024-02-13T06:26:41.074714Z",
          "shell.execute_reply": "2024-02-13T06:26:48.742918Z"
        },
        "trusted": true,
        "id": "JpAX5gXoKP6U",
        "colab": {
          "base_uri": "https://localhost:8080/"
        },
        "outputId": "36c3f16c-781b-451e-8f28-a807c683bcc9"
      },
      "execution_count": null,
      "outputs": [
        {
          "output_type": "stream",
          "name": "stdout",
          "text": [
            "# 3 News:  jakarta cnn indonesia dinas pariwisata provinsi bengkulu kembali menggelar kegiatan bimbingan teknis bimtek sdm kepariwisataan dalam menyongson visit wonderful bengkulu kegiatan yang berlangsung pada hingga november kemarin tersebut sebagai bagian dari upaya pemerintah provinsi bengkulu dalamhadir sebagai pemateri kegiatan pada november itu adalah pltasdep strategi pemasaran pariwisata nusantara deputi bidang pengembangan pemasaran pariwisata nusantara hariyanto serta perwakilan dari deputi bidang pengembangan kelembagaan kementerian pariwisata faizal kepala dinas pariwisata provinsi bengkulu yudi satria mengatakan kegiatan bimtek diikuti peserta yang terdiri dari aparatur pemerintah provinsi asn kabupaten kota kelompok sadar wisata serta pihak terkait sektor pariwisata di bengkulu kegiatan ini dimaksudkan untuk memberikan pembekalan kepada peserta di bidang kepariwisataan ujar yudi satria ia mengatakan pemprov telah menetapkan pariwisata sebagai salah satu sektor yang akan dikembangkan dan akan menjadi sektor unggulan dalam meningkatkan pertumbuhan ekonomi daerah serta masyarakat hal itu jelas yudi tidak lepas dari potensi pariwisata di bengkulu yang besar memiliki kekayaan alam yang indah serta budaya yang tinggi karena itu pula pemprov telah menetapkan program ' visit wonderful bengkulu yang akan menjadi tujuan besar pariwisata bengkulu salah satu poin utamanya adalah upaya menghasilkan sdm pariwisata yang andal yang akan diwujudkan melalui bimtek ini ujar yudi selain itu dalam menunjang proses ' visit wonderful bengkulu ' pemprov juga telah menyiapkan acara yang akan digelar dalam satu tahun ke depan yang bertujuan mengangkat potensi lokal ke kelas dunia salah satu yang dirancang secara besar adalah sail bengkulu yang akan menjual keindahan alam laut bengkulu yang berhadapan langsung dengan samudera hindia kata dia ajang lainnya tentunya festival tabot muharam yang selalu menyedot minat ribuan wisatawan setiap tahun serta festival bumi rafflesia semua kegiatan ini harus disinkronkan penguatan sdm dan bagaimana promosi pemasarannya agar semua acara ini layak jual untuk wisatawan ujarnya sementara hariyanto dalam kesempatan itu menyampaikan materi tentang pengembangan sdm sektor pariwisata dan pengemasan serta pemasaran satu acara dalam paparanya ia menjelaskan bahwa bimtek penting untuk meningkatkan kompetensi sdm kepariwisataan sehingga mampu berperan dalam peningkatan pembangunan kepariwisataan selain itu ia menegaskan bahwa dalam pengembangan pariwisata promosi juga hal yang harus diperhatikan misalnya penekanan pada mekanisme promosi pariwisata secara digital atau daring penyelenggaraan acara juga harus terkurasi dengan baik sehingga memiliki daya tarik yang kuat bagaimana juga meningkatkan efektivitas partisipasi dinas pariwisata pada penyelenggaraan acara dan bagaimana cara memasarkan dan mempromosikan agar bisa dikenal dan menjadi daya tarik wisatawan terang hariyanto deputi pengembangan pemasaran pariwisata nusantara esthy reko astuti mengatakan bimtek kali ini juga bertujuan memberi perspektif dan arah yang sama tentang program promosi pariwisata di bengkulu selain itu juga untuk memahami potensi destinasi destinasi wisata di bengkulu ujar esthy menteri pariwisata arief yahya mengapresiasi kegiatan bimtek sebagai salah satu upaya dan komitmen dari pemerintah provinsi bengkulu dalam mewujudkan pariwisata sebagai salah satu sektor utama ia pun berkomitmen akan mendung penprov dalam mewujudkan visit wonderful bengkulu obyek wisata andalan bengkulu benteng marlborough rumah bung karno pantai panjang yang memiliki pasir putih yang indah dan bersih semuanya world class ditambah dengan puluhan atraksi didalamnya tinggal kita akan dukung dan promosikan ' bengkulu visit ' sehingga lebih mendunia kata arief syahb \n",
            "Original summary:  sostok start songsong visit bengkulu perkuat sdm pariwisat dinas pariwisata provinsi bengkulu kembali menggelar kegiatan bimbingan teknis bimtek sdm kepariwisataan dalam menyongson visit wonderful bengkulu pada november yang lalu kegiatan yang berlangsung pada hingga november kemarin tersebut sebagai bagian dari upaya pemerintah provinsi bengkulu dalam memperkuat sdm pariwisata untuk menyongsong visit wonderful bengkulu end eostok \n",
            "1/1 [==============================] - 6s 6s/step\n",
            "1/1 [==============================] - 0s 107ms/step\n",
            "1/1 [==============================] - 0s 112ms/step\n",
            "1/1 [==============================] - 0s 108ms/step\n",
            "1/1 [==============================] - 0s 104ms/step\n",
            "1/1 [==============================] - 0s 109ms/step\n",
            "1/1 [==============================] - 0s 109ms/step\n",
            "1/1 [==============================] - 0s 120ms/step\n",
            "1/1 [==============================] - 0s 108ms/step\n",
            "1/1 [==============================] - 0s 109ms/step\n",
            "1/1 [==============================] - 0s 108ms/step\n",
            "1/1 [==============================] - 0s 117ms/step\n",
            "1/1 [==============================] - 0s 119ms/step\n",
            "1/1 [==============================] - 0s 119ms/step\n",
            "1/1 [==============================] - 0s 107ms/step\n",
            "1/1 [==============================] - 0s 107ms/step\n",
            "1/1 [==============================] - 0s 120ms/step\n",
            "1/1 [==============================] - 0s 106ms/step\n",
            "1/1 [==============================] - 0s 114ms/step\n",
            "1/1 [==============================] - 0s 107ms/step\n",
            "1/1 [==============================] - 0s 106ms/step\n",
            "1/1 [==============================] - 0s 119ms/step\n",
            "1/1 [==============================] - 0s 123ms/step\n",
            "1/1 [==============================] - 0s 122ms/step\n",
            "1/1 [==============================] - 0s 118ms/step\n",
            "1/1 [==============================] - 0s 127ms/step\n",
            "1/1 [==============================] - 0s 108ms/step\n",
            "1/1 [==============================] - 0s 119ms/step\n",
            "1/1 [==============================] - 0s 107ms/step\n",
            "1/1 [==============================] - 0s 109ms/step\n",
            "1/1 [==============================] - 0s 107ms/step\n",
            "1/1 [==============================] - 0s 107ms/step\n",
            "1/1 [==============================] - 0s 108ms/step\n",
            "1/1 [==============================] - 0s 105ms/step\n",
            "1/1 [==============================] - 0s 112ms/step\n",
            "1/1 [==============================] - 0s 117ms/step\n",
            "1/1 [==============================] - 0s 106ms/step\n",
            "1/1 [==============================] - 0s 106ms/step\n",
            "1/1 [==============================] - 0s 106ms/step\n",
            "1/1 [==============================] - 0s 107ms/step\n",
            "1/1 [==============================] - 0s 108ms/step\n",
            "1/1 [==============================] - 0s 106ms/step\n",
            "1/1 [==============================] - 0s 105ms/step\n",
            "1/1 [==============================] - 0s 109ms/step\n",
            "1/1 [==============================] - 0s 108ms/step\n",
            "1/1 [==============================] - 0s 106ms/step\n",
            "1/1 [==============================] - 0s 123ms/step\n",
            "1/1 [==============================] - 0s 119ms/step\n",
            "1/1 [==============================] - 0s 112ms/step\n",
            "1/1 [==============================] - 0s 107ms/step\n",
            "1/1 [==============================] - 0s 110ms/step\n",
            "1/1 [==============================] - 0s 119ms/step\n",
            "1/1 [==============================] - 0s 117ms/step\n",
            "1/1 [==============================] - 0s 119ms/step\n",
            "1/1 [==============================] - 0s 122ms/step\n",
            "1/1 [==============================] - 0s 106ms/step\n",
            "1/1 [==============================] - 0s 110ms/step\n",
            "1/1 [==============================] - 0s 108ms/step\n",
            "1/1 [==============================] - 0s 114ms/step\n",
            "1/1 [==============================] - 0s 108ms/step\n",
            "1/1 [==============================] - 0s 108ms/step\n",
            "1/1 [==============================] - 0s 119ms/step\n",
            "1/1 [==============================] - 0s 109ms/step\n",
            "1/1 [==============================] - 0s 112ms/step\n",
            "1/1 [==============================] - 0s 107ms/step\n",
            "1/1 [==============================] - 0s 104ms/step\n",
            "1/1 [==============================] - 0s 110ms/step\n",
            "1/1 [==============================] - 0s 111ms/step\n",
            "1/1 [==============================] - 0s 108ms/step\n",
            "1/1 [==============================] - 0s 122ms/step\n",
            "1/1 [==============================] - 0s 119ms/step\n",
            "1/1 [==============================] - 0s 119ms/step\n",
            "1/1 [==============================] - 0s 108ms/step\n",
            "1/1 [==============================] - 0s 110ms/step\n",
            "1/1 [==============================] - 0s 125ms/step\n",
            "1/1 [==============================] - 0s 110ms/step\n",
            "1/1 [==============================] - 0s 121ms/step\n",
            "1/1 [==============================] - 0s 105ms/step\n",
            "1/1 [==============================] - 0s 116ms/step\n",
            "1/1 [==============================] - 0s 105ms/step\n",
            "1/1 [==============================] - 0s 109ms/step\n",
            "1/1 [==============================] - 0s 106ms/step\n",
            "1/1 [==============================] - 0s 147ms/step\n",
            "1/1 [==============================] - 0s 118ms/step\n",
            "1/1 [==============================] - 0s 107ms/step\n",
            "1/1 [==============================] - 0s 107ms/step\n",
            "1/1 [==============================] - 0s 110ms/step\n",
            "1/1 [==============================] - 0s 109ms/step\n",
            "1/1 [==============================] - 0s 111ms/step\n",
            "1/1 [==============================] - 0s 130ms/step\n",
            "1/1 [==============================] - 0s 123ms/step\n",
            "1/1 [==============================] - 0s 110ms/step\n",
            "1/1 [==============================] - 0s 106ms/step\n",
            "1/1 [==============================] - 0s 108ms/step\n",
            "1/1 [==============================] - 0s 121ms/step\n",
            "1/1 [==============================] - 0s 107ms/step\n",
            "1/1 [==============================] - 0s 108ms/step\n",
            "1/1 [==============================] - 0s 109ms/step\n",
            "Predicted summary:   di di di di di di di di di di di di di di di di di di di di di di di di di di di di di di di di di di di di di di di di di di di di di di di di di di di di di di di di di di di di di di di di di di di di di di di di di di di orang orang orang orang orang orang orang orang orang orang orang orang orang orang orang orang orang orang orang orang orang orang\n",
            "\n"
          ]
        }
      ]
    },
    {
      "cell_type": "code",
      "source": [
        "encoder_model.save('encoder.keras')\n",
        "decoder_model.save('decoder.keras')"
      ],
      "metadata": {
        "id": "w9BfgYSJy0Ya"
      },
      "execution_count": null,
      "outputs": []
    },
    {
      "cell_type": "code",
      "source": [
        "from google.colab import files\n",
        "files.download(\"encoder.keras\")\n",
        "files.download(\"decoder.keras\")"
      ],
      "metadata": {
        "id": "6j1cde5SvQjd",
        "colab": {
          "base_uri": "https://localhost:8080/",
          "height": 52
        },
        "outputId": "73b3c603-e193-4c35-831e-a7b9027beb98"
      },
      "execution_count": null,
      "outputs": [
        {
          "output_type": "display_data",
          "data": {
            "text/plain": [
              "<IPython.core.display.Javascript object>"
            ],
            "application/javascript": [
              "\n",
              "    async function download(id, filename, size) {\n",
              "      if (!google.colab.kernel.accessAllowed) {\n",
              "        return;\n",
              "      }\n",
              "      const div = document.createElement('div');\n",
              "      const label = document.createElement('label');\n",
              "      label.textContent = `Downloading \"${filename}\": `;\n",
              "      div.appendChild(label);\n",
              "      const progress = document.createElement('progress');\n",
              "      progress.max = size;\n",
              "      div.appendChild(progress);\n",
              "      document.body.appendChild(div);\n",
              "\n",
              "      const buffers = [];\n",
              "      let downloaded = 0;\n",
              "\n",
              "      const channel = await google.colab.kernel.comms.open(id);\n",
              "      // Send a message to notify the kernel that we're ready.\n",
              "      channel.send({})\n",
              "\n",
              "      for await (const message of channel.messages) {\n",
              "        // Send a message to notify the kernel that we're ready.\n",
              "        channel.send({})\n",
              "        if (message.buffers) {\n",
              "          for (const buffer of message.buffers) {\n",
              "            buffers.push(buffer);\n",
              "            downloaded += buffer.byteLength;\n",
              "            progress.value = downloaded;\n",
              "          }\n",
              "        }\n",
              "      }\n",
              "      const blob = new Blob(buffers, {type: 'application/binary'});\n",
              "      const a = document.createElement('a');\n",
              "      a.href = window.URL.createObjectURL(blob);\n",
              "      a.download = filename;\n",
              "      div.appendChild(a);\n",
              "      a.click();\n",
              "      div.remove();\n",
              "    }\n",
              "  "
            ]
          },
          "metadata": {}
        },
        {
          "output_type": "display_data",
          "data": {
            "text/plain": [
              "<IPython.core.display.Javascript object>"
            ],
            "application/javascript": [
              "download(\"download_8d228e9b-44a0-4586-ad8a-566a68f89856\", \"encoder.keras\", 571169525)"
            ]
          },
          "metadata": {}
        },
        {
          "output_type": "display_data",
          "data": {
            "text/plain": [
              "<IPython.core.display.Javascript object>"
            ],
            "application/javascript": [
              "\n",
              "    async function download(id, filename, size) {\n",
              "      if (!google.colab.kernel.accessAllowed) {\n",
              "        return;\n",
              "      }\n",
              "      const div = document.createElement('div');\n",
              "      const label = document.createElement('label');\n",
              "      label.textContent = `Downloading \"${filename}\": `;\n",
              "      div.appendChild(label);\n",
              "      const progress = document.createElement('progress');\n",
              "      progress.max = size;\n",
              "      div.appendChild(progress);\n",
              "      document.body.appendChild(div);\n",
              "\n",
              "      const buffers = [];\n",
              "      let downloaded = 0;\n",
              "\n",
              "      const channel = await google.colab.kernel.comms.open(id);\n",
              "      // Send a message to notify the kernel that we're ready.\n",
              "      channel.send({})\n",
              "\n",
              "      for await (const message of channel.messages) {\n",
              "        // Send a message to notify the kernel that we're ready.\n",
              "        channel.send({})\n",
              "        if (message.buffers) {\n",
              "          for (const buffer of message.buffers) {\n",
              "            buffers.push(buffer);\n",
              "            downloaded += buffer.byteLength;\n",
              "            progress.value = downloaded;\n",
              "          }\n",
              "        }\n",
              "      }\n",
              "      const blob = new Blob(buffers, {type: 'application/binary'});\n",
              "      const a = document.createElement('a');\n",
              "      a.href = window.URL.createObjectURL(blob);\n",
              "      a.download = filename;\n",
              "      div.appendChild(a);\n",
              "      a.click();\n",
              "      div.remove();\n",
              "    }\n",
              "  "
            ]
          },
          "metadata": {}
        },
        {
          "output_type": "display_data",
          "data": {
            "text/plain": [
              "<IPython.core.display.Javascript object>"
            ],
            "application/javascript": [
              "download(\"download_d06353ec-b899-4a43-a035-c253c885662f\", \"decoder.keras\", 330367718)"
            ]
          },
          "metadata": {}
        }
      ]
    },
    {
      "cell_type": "code",
      "source": [
        "files.download(\"seq2seq_model_weights.h5\")"
      ],
      "metadata": {
        "colab": {
          "base_uri": "https://localhost:8080/",
          "height": 34
        },
        "id": "VmDAgsyhEAW5",
        "outputId": "654fd398-eeb6-459f-dc93-0718b6d6d0e1"
      },
      "execution_count": null,
      "outputs": [
        {
          "output_type": "display_data",
          "data": {
            "text/plain": [
              "<IPython.core.display.Javascript object>"
            ],
            "application/javascript": [
              "\n",
              "    async function download(id, filename, size) {\n",
              "      if (!google.colab.kernel.accessAllowed) {\n",
              "        return;\n",
              "      }\n",
              "      const div = document.createElement('div');\n",
              "      const label = document.createElement('label');\n",
              "      label.textContent = `Downloading \"${filename}\": `;\n",
              "      div.appendChild(label);\n",
              "      const progress = document.createElement('progress');\n",
              "      progress.max = size;\n",
              "      div.appendChild(progress);\n",
              "      document.body.appendChild(div);\n",
              "\n",
              "      const buffers = [];\n",
              "      let downloaded = 0;\n",
              "\n",
              "      const channel = await google.colab.kernel.comms.open(id);\n",
              "      // Send a message to notify the kernel that we're ready.\n",
              "      channel.send({})\n",
              "\n",
              "      for await (const message of channel.messages) {\n",
              "        // Send a message to notify the kernel that we're ready.\n",
              "        channel.send({})\n",
              "        if (message.buffers) {\n",
              "          for (const buffer of message.buffers) {\n",
              "            buffers.push(buffer);\n",
              "            downloaded += buffer.byteLength;\n",
              "            progress.value = downloaded;\n",
              "          }\n",
              "        }\n",
              "      }\n",
              "      const blob = new Blob(buffers, {type: 'application/binary'});\n",
              "      const a = document.createElement('a');\n",
              "      a.href = window.URL.createObjectURL(blob);\n",
              "      a.download = filename;\n",
              "      div.appendChild(a);\n",
              "      a.click();\n",
              "      div.remove();\n",
              "    }\n",
              "  "
            ]
          },
          "metadata": {}
        },
        {
          "output_type": "display_data",
          "data": {
            "text/plain": [
              "<IPython.core.display.Javascript object>"
            ],
            "application/javascript": [
              "download(\"download_27b8102b-0c07-4da0-8fc9-27242212ab10\", \"seq2seq_model_weights.h5\", 953535588)"
            ]
          },
          "metadata": {}
        }
      ]
    },
    {
      "cell_type": "code",
      "source": [],
      "metadata": {
        "id": "oLNPQT6SEEq7"
      },
      "execution_count": null,
      "outputs": []
    }
  ]
}